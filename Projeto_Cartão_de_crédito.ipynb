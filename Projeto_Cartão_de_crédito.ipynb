{
 "cells": [
  {
   "cell_type": "markdown",
   "metadata": {
    "id": "3507b394"
   },
   "source": [
    "![image](https://user-images.githubusercontent.com/92948655/142497417-45196208-c7b6-4f91-9f05-02119bc6e03b.png)\n",
    "\n"
   ]
  },
  {
   "cell_type": "markdown",
   "metadata": {
    "heading_collapsed": true
   },
   "source": [
    "# Contextualização\n"
   ]
  },
  {
   "cell_type": "markdown",
   "metadata": {
    "hidden": true
   },
   "source": [
    "Neste projeto utilizamos a base de dados [Credit Card Customers](https://www.kaggle.com/sakshigoyal7/credit-card-customers), disponível na plataforma Kaggle. Este dataset geralmente é utilizado para a previsão de churning de clientes - processo no qual o cliente se torna desistente do consumo de algum serviço.\n",
    "\n",
    "O conjunto de dados original foi retirado do site [LEAPS](https://leaps.analyttica.com/), uma plataforma que disponibiliza diversos bancos de dados a fim de que os usuários possam utilizá-los para praticar a resolução dos mais variados problemas de negócios.\n",
    "\n",
    "Segundo informações disponilizadas pelo Kaggle em 22 de novembro de 2021, o dataset contém dados sobre 10 mil clientes, dentre os quais: idade, salário, estado civil, limite de crédito, etc. Vale acrescentar que este *dataset* foi disponibilizado por um dos usuários da plataforma há cerca de um ano, em novembro de 2020.\n",
    "\n",
    "Para estes dados, tem-se que aproximadamente 16,07% dos clientes desistiram do serviço de cartão de crédito.\n"
   ]
  },
  {
   "cell_type": "markdown",
   "metadata": {
    "heading_collapsed": true
   },
   "source": [
    "# Objetivo da análise"
   ]
  },
  {
   "cell_type": "markdown",
   "metadata": {
    "hidden": true
   },
   "source": [
    "O objetivo da análise é traçar um **perfil sobre os clientes que desistem do serviço de cartão de crédito prestado pelo banco em questão**, observando quais são os fatores (*features*) que possuem maior influência sobre o *churn* de parte dos clientes.\n",
    "\n",
    "A determinação de quais colunas estão relacionadas com a desistência dos clientes pode auxiliar durante a aplicação de modelos de *machine learning* sobre os dados."
   ]
  },
  {
   "cell_type": "markdown",
   "metadata": {
    "heading_collapsed": true,
    "id": "fb7dabbb"
   },
   "source": [
    "# Dicionário de dados"
   ]
  },
  {
   "cell_type": "markdown",
   "metadata": {
    "hidden": true
   },
   "source": [
    "Nome da coluna|Descrição dos dados|Tipo\n",
    ":-------------|:-----------------|:---\n",
    "CLIENTNUM|Identificador único para cada cliente da base de dados|Categórica\n",
    "Attrition_Flag|Se o cliente está ou não com uma conta ativa (se 1, a conta foi fechada, senão 0)|Categórica\n",
    "Customer_Age|Idade do cliente|Discreta\n",
    "Gender|Sexo do cliente|Nominal\n",
    "Dependent_count|Número de dependentes do cliente|Discreta\n",
    "Education_Level|Nível educacional do cliente|Ordinal\n",
    "Marital_Status|Estado civil do cliente|Nominal\n",
    "Income_Category|Categoria de renda na qual o cliente se encontra (< $40K, $40K - 60K, $60K - $80K, $80K-$120K, > $120K, Unknown)|Intervalos\n",
    "Card_Category|Tipo de cartão do cliente (Blue, Silver, Gold, Platinum)|Ordinal\n",
    "Months_on_book|Período de relacionamento do cliente com o banco (em meses)|Discreta\n",
    "Total_Relationship_Count|Total de produtos do banco que o cliente possui|Discreta\n",
    "Months_Inactive_12_mon|Número de meses que o cliente permaneceu inativo|Discreta\n",
    "Contacts_Count_12_mon|Número de contatos nos últimos 12 meses|Discreta\n",
    "Credit_Limit|Limite do cartão de crédito|Contínua\n",
    "Total_Revolving_Bal|Média da quantidade gasta no cartão por mês|Contínua\n",
    "Avg_Open_To_Buy|Média de limite comprado nos últimos doze meses (reajuste do limite)|Contínua\n",
    "Total_Amt_Chng_Q4_Q1|Comparação entre o uso do cartão nos 4 últimos meses do ano com os 4 primeiros meses do ano (em quantia)|Contínua\n",
    "Total_Trans_Amt|Total de transferências nos últimos 12 meses (em quantia)|Contínua\n",
    "Total_Trans_Ct|Total de transferências nos últimos 12 meses (em número de transações)|Discreta\n",
    "Total_Ct_Chng_Q4_Q1|Comparação entre o uso do cartão nos 4 últimos meses do ano com os 4 primeiros meses do ano (em número de transações)|Contínua\n",
    "Avg_Utilization_Ratio|Razão média de uso do cartão (Rotativo/Limite de crédito)|Contínua\n",
    "\n"
   ]
  },
  {
   "cell_type": "markdown",
   "metadata": {
    "heading_collapsed": true,
    "id": "e376545b"
   },
   "source": [
    "# Importação de bibliotecas "
   ]
  },
  {
   "cell_type": "code",
   "execution_count": 1,
   "metadata": {
    "hidden": true,
    "id": "248264db"
   },
   "outputs": [],
   "source": [
    "import pandas as pd\n",
    "import numpy as np\n",
    "import matplotlib.pyplot as plt\n",
    "import seaborn as sns\n",
    "import math"
   ]
  },
  {
   "cell_type": "markdown",
   "metadata": {
    "heading_collapsed": true,
    "id": "cecb677f"
   },
   "source": [
    "# Carregando base de dados e visualizando atributos"
   ]
  },
  {
   "cell_type": "code",
   "execution_count": 2,
   "metadata": {
    "hidden": true,
    "id": "3a3407b0",
    "outputId": "09075153-dd04-455c-ebd1-a87777df5483"
   },
   "outputs": [
    {
     "data": {
      "text/html": [
       "<div>\n",
       "<style scoped>\n",
       "    .dataframe tbody tr th:only-of-type {\n",
       "        vertical-align: middle;\n",
       "    }\n",
       "\n",
       "    .dataframe tbody tr th {\n",
       "        vertical-align: top;\n",
       "    }\n",
       "\n",
       "    .dataframe thead th {\n",
       "        text-align: right;\n",
       "    }\n",
       "</style>\n",
       "<table border=\"1\" class=\"dataframe\">\n",
       "  <thead>\n",
       "    <tr style=\"text-align: right;\">\n",
       "      <th></th>\n",
       "      <th>CLIENTNUM</th>\n",
       "      <th>Attrition_Flag</th>\n",
       "      <th>Customer_Age</th>\n",
       "      <th>Gender</th>\n",
       "      <th>Dependent_count</th>\n",
       "      <th>Education_Level</th>\n",
       "      <th>Marital_Status</th>\n",
       "      <th>Income_Category</th>\n",
       "      <th>Card_Category</th>\n",
       "      <th>Months_on_book</th>\n",
       "      <th>...</th>\n",
       "      <th>Credit_Limit</th>\n",
       "      <th>Total_Revolving_Bal</th>\n",
       "      <th>Avg_Open_To_Buy</th>\n",
       "      <th>Total_Amt_Chng_Q4_Q1</th>\n",
       "      <th>Total_Trans_Amt</th>\n",
       "      <th>Total_Trans_Ct</th>\n",
       "      <th>Total_Ct_Chng_Q4_Q1</th>\n",
       "      <th>Avg_Utilization_Ratio</th>\n",
       "      <th>Naive_Bayes_Classifier_Attrition_Flag_Card_Category_Contacts_Count_12_mon_Dependent_count_Education_Level_Months_Inactive_12_mon_1</th>\n",
       "      <th>Naive_Bayes_Classifier_Attrition_Flag_Card_Category_Contacts_Count_12_mon_Dependent_count_Education_Level_Months_Inactive_12_mon_2</th>\n",
       "    </tr>\n",
       "  </thead>\n",
       "  <tbody>\n",
       "    <tr>\n",
       "      <th>0</th>\n",
       "      <td>768805383</td>\n",
       "      <td>Existing Customer</td>\n",
       "      <td>45</td>\n",
       "      <td>M</td>\n",
       "      <td>3</td>\n",
       "      <td>High School</td>\n",
       "      <td>Married</td>\n",
       "      <td>$60K - $80K</td>\n",
       "      <td>Blue</td>\n",
       "      <td>39</td>\n",
       "      <td>...</td>\n",
       "      <td>12691.0</td>\n",
       "      <td>777</td>\n",
       "      <td>11914.0</td>\n",
       "      <td>1.335</td>\n",
       "      <td>1144</td>\n",
       "      <td>42</td>\n",
       "      <td>1.625</td>\n",
       "      <td>0.061</td>\n",
       "      <td>0.000093</td>\n",
       "      <td>0.999910</td>\n",
       "    </tr>\n",
       "    <tr>\n",
       "      <th>1</th>\n",
       "      <td>818770008</td>\n",
       "      <td>Existing Customer</td>\n",
       "      <td>49</td>\n",
       "      <td>F</td>\n",
       "      <td>5</td>\n",
       "      <td>Graduate</td>\n",
       "      <td>Single</td>\n",
       "      <td>Less than $40K</td>\n",
       "      <td>Blue</td>\n",
       "      <td>44</td>\n",
       "      <td>...</td>\n",
       "      <td>8256.0</td>\n",
       "      <td>864</td>\n",
       "      <td>7392.0</td>\n",
       "      <td>1.541</td>\n",
       "      <td>1291</td>\n",
       "      <td>33</td>\n",
       "      <td>3.714</td>\n",
       "      <td>0.105</td>\n",
       "      <td>0.000057</td>\n",
       "      <td>0.999940</td>\n",
       "    </tr>\n",
       "    <tr>\n",
       "      <th>2</th>\n",
       "      <td>713982108</td>\n",
       "      <td>Existing Customer</td>\n",
       "      <td>51</td>\n",
       "      <td>M</td>\n",
       "      <td>3</td>\n",
       "      <td>Graduate</td>\n",
       "      <td>Married</td>\n",
       "      <td>$80K - $120K</td>\n",
       "      <td>Blue</td>\n",
       "      <td>36</td>\n",
       "      <td>...</td>\n",
       "      <td>3418.0</td>\n",
       "      <td>0</td>\n",
       "      <td>3418.0</td>\n",
       "      <td>2.594</td>\n",
       "      <td>1887</td>\n",
       "      <td>20</td>\n",
       "      <td>2.333</td>\n",
       "      <td>0.000</td>\n",
       "      <td>0.000021</td>\n",
       "      <td>0.999980</td>\n",
       "    </tr>\n",
       "    <tr>\n",
       "      <th>3</th>\n",
       "      <td>769911858</td>\n",
       "      <td>Existing Customer</td>\n",
       "      <td>40</td>\n",
       "      <td>F</td>\n",
       "      <td>4</td>\n",
       "      <td>High School</td>\n",
       "      <td>Unknown</td>\n",
       "      <td>Less than $40K</td>\n",
       "      <td>Blue</td>\n",
       "      <td>34</td>\n",
       "      <td>...</td>\n",
       "      <td>3313.0</td>\n",
       "      <td>2517</td>\n",
       "      <td>796.0</td>\n",
       "      <td>1.405</td>\n",
       "      <td>1171</td>\n",
       "      <td>20</td>\n",
       "      <td>2.333</td>\n",
       "      <td>0.760</td>\n",
       "      <td>0.000134</td>\n",
       "      <td>0.999870</td>\n",
       "    </tr>\n",
       "    <tr>\n",
       "      <th>4</th>\n",
       "      <td>709106358</td>\n",
       "      <td>Existing Customer</td>\n",
       "      <td>40</td>\n",
       "      <td>M</td>\n",
       "      <td>3</td>\n",
       "      <td>Uneducated</td>\n",
       "      <td>Married</td>\n",
       "      <td>$60K - $80K</td>\n",
       "      <td>Blue</td>\n",
       "      <td>21</td>\n",
       "      <td>...</td>\n",
       "      <td>4716.0</td>\n",
       "      <td>0</td>\n",
       "      <td>4716.0</td>\n",
       "      <td>2.175</td>\n",
       "      <td>816</td>\n",
       "      <td>28</td>\n",
       "      <td>2.500</td>\n",
       "      <td>0.000</td>\n",
       "      <td>0.000022</td>\n",
       "      <td>0.999980</td>\n",
       "    </tr>\n",
       "    <tr>\n",
       "      <th>...</th>\n",
       "      <td>...</td>\n",
       "      <td>...</td>\n",
       "      <td>...</td>\n",
       "      <td>...</td>\n",
       "      <td>...</td>\n",
       "      <td>...</td>\n",
       "      <td>...</td>\n",
       "      <td>...</td>\n",
       "      <td>...</td>\n",
       "      <td>...</td>\n",
       "      <td>...</td>\n",
       "      <td>...</td>\n",
       "      <td>...</td>\n",
       "      <td>...</td>\n",
       "      <td>...</td>\n",
       "      <td>...</td>\n",
       "      <td>...</td>\n",
       "      <td>...</td>\n",
       "      <td>...</td>\n",
       "      <td>...</td>\n",
       "      <td>...</td>\n",
       "    </tr>\n",
       "    <tr>\n",
       "      <th>10122</th>\n",
       "      <td>772366833</td>\n",
       "      <td>Existing Customer</td>\n",
       "      <td>50</td>\n",
       "      <td>M</td>\n",
       "      <td>2</td>\n",
       "      <td>Graduate</td>\n",
       "      <td>Single</td>\n",
       "      <td>$40K - $60K</td>\n",
       "      <td>Blue</td>\n",
       "      <td>40</td>\n",
       "      <td>...</td>\n",
       "      <td>4003.0</td>\n",
       "      <td>1851</td>\n",
       "      <td>2152.0</td>\n",
       "      <td>0.703</td>\n",
       "      <td>15476</td>\n",
       "      <td>117</td>\n",
       "      <td>0.857</td>\n",
       "      <td>0.462</td>\n",
       "      <td>0.000191</td>\n",
       "      <td>0.999810</td>\n",
       "    </tr>\n",
       "    <tr>\n",
       "      <th>10123</th>\n",
       "      <td>710638233</td>\n",
       "      <td>Attrited Customer</td>\n",
       "      <td>41</td>\n",
       "      <td>M</td>\n",
       "      <td>2</td>\n",
       "      <td>Unknown</td>\n",
       "      <td>Divorced</td>\n",
       "      <td>$40K - $60K</td>\n",
       "      <td>Blue</td>\n",
       "      <td>25</td>\n",
       "      <td>...</td>\n",
       "      <td>4277.0</td>\n",
       "      <td>2186</td>\n",
       "      <td>2091.0</td>\n",
       "      <td>0.804</td>\n",
       "      <td>8764</td>\n",
       "      <td>69</td>\n",
       "      <td>0.683</td>\n",
       "      <td>0.511</td>\n",
       "      <td>0.995270</td>\n",
       "      <td>0.004729</td>\n",
       "    </tr>\n",
       "    <tr>\n",
       "      <th>10124</th>\n",
       "      <td>716506083</td>\n",
       "      <td>Attrited Customer</td>\n",
       "      <td>44</td>\n",
       "      <td>F</td>\n",
       "      <td>1</td>\n",
       "      <td>High School</td>\n",
       "      <td>Married</td>\n",
       "      <td>Less than $40K</td>\n",
       "      <td>Blue</td>\n",
       "      <td>36</td>\n",
       "      <td>...</td>\n",
       "      <td>5409.0</td>\n",
       "      <td>0</td>\n",
       "      <td>5409.0</td>\n",
       "      <td>0.819</td>\n",
       "      <td>10291</td>\n",
       "      <td>60</td>\n",
       "      <td>0.818</td>\n",
       "      <td>0.000</td>\n",
       "      <td>0.997880</td>\n",
       "      <td>0.002118</td>\n",
       "    </tr>\n",
       "    <tr>\n",
       "      <th>10125</th>\n",
       "      <td>717406983</td>\n",
       "      <td>Attrited Customer</td>\n",
       "      <td>30</td>\n",
       "      <td>M</td>\n",
       "      <td>2</td>\n",
       "      <td>Graduate</td>\n",
       "      <td>Unknown</td>\n",
       "      <td>$40K - $60K</td>\n",
       "      <td>Blue</td>\n",
       "      <td>36</td>\n",
       "      <td>...</td>\n",
       "      <td>5281.0</td>\n",
       "      <td>0</td>\n",
       "      <td>5281.0</td>\n",
       "      <td>0.535</td>\n",
       "      <td>8395</td>\n",
       "      <td>62</td>\n",
       "      <td>0.722</td>\n",
       "      <td>0.000</td>\n",
       "      <td>0.996710</td>\n",
       "      <td>0.003294</td>\n",
       "    </tr>\n",
       "    <tr>\n",
       "      <th>10126</th>\n",
       "      <td>714337233</td>\n",
       "      <td>Attrited Customer</td>\n",
       "      <td>43</td>\n",
       "      <td>F</td>\n",
       "      <td>2</td>\n",
       "      <td>Graduate</td>\n",
       "      <td>Married</td>\n",
       "      <td>Less than $40K</td>\n",
       "      <td>Silver</td>\n",
       "      <td>25</td>\n",
       "      <td>...</td>\n",
       "      <td>10388.0</td>\n",
       "      <td>1961</td>\n",
       "      <td>8427.0</td>\n",
       "      <td>0.703</td>\n",
       "      <td>10294</td>\n",
       "      <td>61</td>\n",
       "      <td>0.649</td>\n",
       "      <td>0.189</td>\n",
       "      <td>0.996620</td>\n",
       "      <td>0.003377</td>\n",
       "    </tr>\n",
       "  </tbody>\n",
       "</table>\n",
       "<p>10127 rows × 23 columns</p>\n",
       "</div>"
      ],
      "text/plain": [
       "       CLIENTNUM     Attrition_Flag  Customer_Age Gender  Dependent_count  \\\n",
       "0      768805383  Existing Customer            45      M                3   \n",
       "1      818770008  Existing Customer            49      F                5   \n",
       "2      713982108  Existing Customer            51      M                3   \n",
       "3      769911858  Existing Customer            40      F                4   \n",
       "4      709106358  Existing Customer            40      M                3   \n",
       "...          ...                ...           ...    ...              ...   \n",
       "10122  772366833  Existing Customer            50      M                2   \n",
       "10123  710638233  Attrited Customer            41      M                2   \n",
       "10124  716506083  Attrited Customer            44      F                1   \n",
       "10125  717406983  Attrited Customer            30      M                2   \n",
       "10126  714337233  Attrited Customer            43      F                2   \n",
       "\n",
       "      Education_Level Marital_Status Income_Category Card_Category  \\\n",
       "0         High School        Married     $60K - $80K          Blue   \n",
       "1            Graduate         Single  Less than $40K          Blue   \n",
       "2            Graduate        Married    $80K - $120K          Blue   \n",
       "3         High School        Unknown  Less than $40K          Blue   \n",
       "4          Uneducated        Married     $60K - $80K          Blue   \n",
       "...               ...            ...             ...           ...   \n",
       "10122        Graduate         Single     $40K - $60K          Blue   \n",
       "10123         Unknown       Divorced     $40K - $60K          Blue   \n",
       "10124     High School        Married  Less than $40K          Blue   \n",
       "10125        Graduate        Unknown     $40K - $60K          Blue   \n",
       "10126        Graduate        Married  Less than $40K        Silver   \n",
       "\n",
       "       Months_on_book  ...  Credit_Limit  Total_Revolving_Bal  \\\n",
       "0                  39  ...       12691.0                  777   \n",
       "1                  44  ...        8256.0                  864   \n",
       "2                  36  ...        3418.0                    0   \n",
       "3                  34  ...        3313.0                 2517   \n",
       "4                  21  ...        4716.0                    0   \n",
       "...               ...  ...           ...                  ...   \n",
       "10122              40  ...        4003.0                 1851   \n",
       "10123              25  ...        4277.0                 2186   \n",
       "10124              36  ...        5409.0                    0   \n",
       "10125              36  ...        5281.0                    0   \n",
       "10126              25  ...       10388.0                 1961   \n",
       "\n",
       "       Avg_Open_To_Buy  Total_Amt_Chng_Q4_Q1  Total_Trans_Amt  Total_Trans_Ct  \\\n",
       "0              11914.0                 1.335             1144              42   \n",
       "1               7392.0                 1.541             1291              33   \n",
       "2               3418.0                 2.594             1887              20   \n",
       "3                796.0                 1.405             1171              20   \n",
       "4               4716.0                 2.175              816              28   \n",
       "...                ...                   ...              ...             ...   \n",
       "10122           2152.0                 0.703            15476             117   \n",
       "10123           2091.0                 0.804             8764              69   \n",
       "10124           5409.0                 0.819            10291              60   \n",
       "10125           5281.0                 0.535             8395              62   \n",
       "10126           8427.0                 0.703            10294              61   \n",
       "\n",
       "       Total_Ct_Chng_Q4_Q1  Avg_Utilization_Ratio  \\\n",
       "0                    1.625                  0.061   \n",
       "1                    3.714                  0.105   \n",
       "2                    2.333                  0.000   \n",
       "3                    2.333                  0.760   \n",
       "4                    2.500                  0.000   \n",
       "...                    ...                    ...   \n",
       "10122                0.857                  0.462   \n",
       "10123                0.683                  0.511   \n",
       "10124                0.818                  0.000   \n",
       "10125                0.722                  0.000   \n",
       "10126                0.649                  0.189   \n",
       "\n",
       "       Naive_Bayes_Classifier_Attrition_Flag_Card_Category_Contacts_Count_12_mon_Dependent_count_Education_Level_Months_Inactive_12_mon_1  \\\n",
       "0                                               0.000093                                                                                    \n",
       "1                                               0.000057                                                                                    \n",
       "2                                               0.000021                                                                                    \n",
       "3                                               0.000134                                                                                    \n",
       "4                                               0.000022                                                                                    \n",
       "...                                                  ...                                                                                    \n",
       "10122                                           0.000191                                                                                    \n",
       "10123                                           0.995270                                                                                    \n",
       "10124                                           0.997880                                                                                    \n",
       "10125                                           0.996710                                                                                    \n",
       "10126                                           0.996620                                                                                    \n",
       "\n",
       "       Naive_Bayes_Classifier_Attrition_Flag_Card_Category_Contacts_Count_12_mon_Dependent_count_Education_Level_Months_Inactive_12_mon_2  \n",
       "0                                               0.999910                                                                                   \n",
       "1                                               0.999940                                                                                   \n",
       "2                                               0.999980                                                                                   \n",
       "3                                               0.999870                                                                                   \n",
       "4                                               0.999980                                                                                   \n",
       "...                                                  ...                                                                                   \n",
       "10122                                           0.999810                                                                                   \n",
       "10123                                           0.004729                                                                                   \n",
       "10124                                           0.002118                                                                                   \n",
       "10125                                           0.003294                                                                                   \n",
       "10126                                           0.003377                                                                                   \n",
       "\n",
       "[10127 rows x 23 columns]"
      ]
     },
     "execution_count": 2,
     "metadata": {},
     "output_type": "execute_result"
    }
   ],
   "source": [
    "df_original = pd.read_csv(\"BankChurners.csv\", sep=',')\n",
    "df_original"
   ]
  },
  {
   "cell_type": "code",
   "execution_count": 3,
   "metadata": {
    "hidden": true,
    "id": "4ff0d0d1",
    "outputId": "08ba9da5-cc7a-4b10-f8e3-32edbed1310d"
   },
   "outputs": [
    {
     "data": {
      "text/plain": [
       "(10127, 23)"
      ]
     },
     "execution_count": 3,
     "metadata": {},
     "output_type": "execute_result"
    }
   ],
   "source": [
    "df_original.shape"
   ]
  },
  {
   "cell_type": "code",
   "execution_count": 4,
   "metadata": {
    "hidden": true,
    "id": "ff9ae812",
    "outputId": "95a68b27-a85a-4480-ee19-14e39e1ac6b7"
   },
   "outputs": [
    {
     "data": {
      "text/plain": [
       "Index(['CLIENTNUM', 'Attrition_Flag', 'Customer_Age', 'Gender',\n",
       "       'Dependent_count', 'Education_Level', 'Marital_Status',\n",
       "       'Income_Category', 'Card_Category', 'Months_on_book',\n",
       "       'Total_Relationship_Count', 'Months_Inactive_12_mon',\n",
       "       'Contacts_Count_12_mon', 'Credit_Limit', 'Total_Revolving_Bal',\n",
       "       'Avg_Open_To_Buy', 'Total_Amt_Chng_Q4_Q1', 'Total_Trans_Amt',\n",
       "       'Total_Trans_Ct', 'Total_Ct_Chng_Q4_Q1', 'Avg_Utilization_Ratio',\n",
       "       'Naive_Bayes_Classifier_Attrition_Flag_Card_Category_Contacts_Count_12_mon_Dependent_count_Education_Level_Months_Inactive_12_mon_1',\n",
       "       'Naive_Bayes_Classifier_Attrition_Flag_Card_Category_Contacts_Count_12_mon_Dependent_count_Education_Level_Months_Inactive_12_mon_2'],\n",
       "      dtype='object')"
      ]
     },
     "execution_count": 4,
     "metadata": {},
     "output_type": "execute_result"
    }
   ],
   "source": [
    "df_original.columns"
   ]
  },
  {
   "cell_type": "markdown",
   "metadata": {
    "hidden": true,
    "id": "9ea63fb2"
   },
   "source": [
    "Em acordo com o que foi aconselhado por parte dos usuários do Kaggle, na página de divulgação dos dados, optamos aqui pela remoção das duas últimas colunas, uma vez que não apresentam grande importância frente aos outros dados."
   ]
  },
  {
   "cell_type": "code",
   "execution_count": 5,
   "metadata": {
    "hidden": true,
    "id": "a2fef9e1"
   },
   "outputs": [],
   "source": [
    "df = df_original.drop(['Naive_Bayes_Classifier_Attrition_Flag_Card_Category_Contacts_Count_12_mon_Dependent_count_Education_Level_Months_Inactive_12_mon_1','Naive_Bayes_Classifier_Attrition_Flag_Card_Category_Contacts_Count_12_mon_Dependent_count_Education_Level_Months_Inactive_12_mon_2'], axis=1)"
   ]
  },
  {
   "cell_type": "code",
   "execution_count": 6,
   "metadata": {
    "hidden": true,
    "id": "bda2804b",
    "outputId": "85625686-06d2-4468-945c-efbfedb3f8d6"
   },
   "outputs": [
    {
     "data": {
      "text/plain": [
       "Index(['CLIENTNUM', 'Attrition_Flag', 'Customer_Age', 'Gender',\n",
       "       'Dependent_count', 'Education_Level', 'Marital_Status',\n",
       "       'Income_Category', 'Card_Category', 'Months_on_book',\n",
       "       'Total_Relationship_Count', 'Months_Inactive_12_mon',\n",
       "       'Contacts_Count_12_mon', 'Credit_Limit', 'Total_Revolving_Bal',\n",
       "       'Avg_Open_To_Buy', 'Total_Amt_Chng_Q4_Q1', 'Total_Trans_Amt',\n",
       "       'Total_Trans_Ct', 'Total_Ct_Chng_Q4_Q1', 'Avg_Utilization_Ratio'],\n",
       "      dtype='object')"
      ]
     },
     "execution_count": 6,
     "metadata": {},
     "output_type": "execute_result"
    }
   ],
   "source": [
    "df.columns"
   ]
  },
  {
   "cell_type": "code",
   "execution_count": 7,
   "metadata": {
    "hidden": true,
    "id": "74c3031c",
    "outputId": "da0a5936-ff86-4fb5-a15f-63b185b6fb49"
   },
   "outputs": [
    {
     "data": {
      "text/html": [
       "<div>\n",
       "<style scoped>\n",
       "    .dataframe tbody tr th:only-of-type {\n",
       "        vertical-align: middle;\n",
       "    }\n",
       "\n",
       "    .dataframe tbody tr th {\n",
       "        vertical-align: top;\n",
       "    }\n",
       "\n",
       "    .dataframe thead th {\n",
       "        text-align: right;\n",
       "    }\n",
       "</style>\n",
       "<table border=\"1\" class=\"dataframe\">\n",
       "  <thead>\n",
       "    <tr style=\"text-align: right;\">\n",
       "      <th></th>\n",
       "      <th>CLIENTNUM</th>\n",
       "      <th>Attrition_Flag</th>\n",
       "      <th>Customer_Age</th>\n",
       "      <th>Gender</th>\n",
       "      <th>Dependent_count</th>\n",
       "      <th>Education_Level</th>\n",
       "      <th>Marital_Status</th>\n",
       "      <th>Income_Category</th>\n",
       "      <th>Card_Category</th>\n",
       "      <th>Months_on_book</th>\n",
       "      <th>...</th>\n",
       "      <th>Months_Inactive_12_mon</th>\n",
       "      <th>Contacts_Count_12_mon</th>\n",
       "      <th>Credit_Limit</th>\n",
       "      <th>Total_Revolving_Bal</th>\n",
       "      <th>Avg_Open_To_Buy</th>\n",
       "      <th>Total_Amt_Chng_Q4_Q1</th>\n",
       "      <th>Total_Trans_Amt</th>\n",
       "      <th>Total_Trans_Ct</th>\n",
       "      <th>Total_Ct_Chng_Q4_Q1</th>\n",
       "      <th>Avg_Utilization_Ratio</th>\n",
       "    </tr>\n",
       "  </thead>\n",
       "  <tbody>\n",
       "    <tr>\n",
       "      <th>0</th>\n",
       "      <td>768805383</td>\n",
       "      <td>Existing Customer</td>\n",
       "      <td>45</td>\n",
       "      <td>M</td>\n",
       "      <td>3</td>\n",
       "      <td>High School</td>\n",
       "      <td>Married</td>\n",
       "      <td>$60K - $80K</td>\n",
       "      <td>Blue</td>\n",
       "      <td>39</td>\n",
       "      <td>...</td>\n",
       "      <td>1</td>\n",
       "      <td>3</td>\n",
       "      <td>12691.0</td>\n",
       "      <td>777</td>\n",
       "      <td>11914.0</td>\n",
       "      <td>1.335</td>\n",
       "      <td>1144</td>\n",
       "      <td>42</td>\n",
       "      <td>1.625</td>\n",
       "      <td>0.061</td>\n",
       "    </tr>\n",
       "    <tr>\n",
       "      <th>1</th>\n",
       "      <td>818770008</td>\n",
       "      <td>Existing Customer</td>\n",
       "      <td>49</td>\n",
       "      <td>F</td>\n",
       "      <td>5</td>\n",
       "      <td>Graduate</td>\n",
       "      <td>Single</td>\n",
       "      <td>Less than $40K</td>\n",
       "      <td>Blue</td>\n",
       "      <td>44</td>\n",
       "      <td>...</td>\n",
       "      <td>1</td>\n",
       "      <td>2</td>\n",
       "      <td>8256.0</td>\n",
       "      <td>864</td>\n",
       "      <td>7392.0</td>\n",
       "      <td>1.541</td>\n",
       "      <td>1291</td>\n",
       "      <td>33</td>\n",
       "      <td>3.714</td>\n",
       "      <td>0.105</td>\n",
       "    </tr>\n",
       "    <tr>\n",
       "      <th>2</th>\n",
       "      <td>713982108</td>\n",
       "      <td>Existing Customer</td>\n",
       "      <td>51</td>\n",
       "      <td>M</td>\n",
       "      <td>3</td>\n",
       "      <td>Graduate</td>\n",
       "      <td>Married</td>\n",
       "      <td>$80K - $120K</td>\n",
       "      <td>Blue</td>\n",
       "      <td>36</td>\n",
       "      <td>...</td>\n",
       "      <td>1</td>\n",
       "      <td>0</td>\n",
       "      <td>3418.0</td>\n",
       "      <td>0</td>\n",
       "      <td>3418.0</td>\n",
       "      <td>2.594</td>\n",
       "      <td>1887</td>\n",
       "      <td>20</td>\n",
       "      <td>2.333</td>\n",
       "      <td>0.000</td>\n",
       "    </tr>\n",
       "    <tr>\n",
       "      <th>3</th>\n",
       "      <td>769911858</td>\n",
       "      <td>Existing Customer</td>\n",
       "      <td>40</td>\n",
       "      <td>F</td>\n",
       "      <td>4</td>\n",
       "      <td>High School</td>\n",
       "      <td>Unknown</td>\n",
       "      <td>Less than $40K</td>\n",
       "      <td>Blue</td>\n",
       "      <td>34</td>\n",
       "      <td>...</td>\n",
       "      <td>4</td>\n",
       "      <td>1</td>\n",
       "      <td>3313.0</td>\n",
       "      <td>2517</td>\n",
       "      <td>796.0</td>\n",
       "      <td>1.405</td>\n",
       "      <td>1171</td>\n",
       "      <td>20</td>\n",
       "      <td>2.333</td>\n",
       "      <td>0.760</td>\n",
       "    </tr>\n",
       "    <tr>\n",
       "      <th>4</th>\n",
       "      <td>709106358</td>\n",
       "      <td>Existing Customer</td>\n",
       "      <td>40</td>\n",
       "      <td>M</td>\n",
       "      <td>3</td>\n",
       "      <td>Uneducated</td>\n",
       "      <td>Married</td>\n",
       "      <td>$60K - $80K</td>\n",
       "      <td>Blue</td>\n",
       "      <td>21</td>\n",
       "      <td>...</td>\n",
       "      <td>1</td>\n",
       "      <td>0</td>\n",
       "      <td>4716.0</td>\n",
       "      <td>0</td>\n",
       "      <td>4716.0</td>\n",
       "      <td>2.175</td>\n",
       "      <td>816</td>\n",
       "      <td>28</td>\n",
       "      <td>2.500</td>\n",
       "      <td>0.000</td>\n",
       "    </tr>\n",
       "  </tbody>\n",
       "</table>\n",
       "<p>5 rows × 21 columns</p>\n",
       "</div>"
      ],
      "text/plain": [
       "   CLIENTNUM     Attrition_Flag  Customer_Age Gender  Dependent_count  \\\n",
       "0  768805383  Existing Customer            45      M                3   \n",
       "1  818770008  Existing Customer            49      F                5   \n",
       "2  713982108  Existing Customer            51      M                3   \n",
       "3  769911858  Existing Customer            40      F                4   \n",
       "4  709106358  Existing Customer            40      M                3   \n",
       "\n",
       "  Education_Level Marital_Status Income_Category Card_Category  \\\n",
       "0     High School        Married     $60K - $80K          Blue   \n",
       "1        Graduate         Single  Less than $40K          Blue   \n",
       "2        Graduate        Married    $80K - $120K          Blue   \n",
       "3     High School        Unknown  Less than $40K          Blue   \n",
       "4      Uneducated        Married     $60K - $80K          Blue   \n",
       "\n",
       "   Months_on_book  ...  Months_Inactive_12_mon  Contacts_Count_12_mon  \\\n",
       "0              39  ...                       1                      3   \n",
       "1              44  ...                       1                      2   \n",
       "2              36  ...                       1                      0   \n",
       "3              34  ...                       4                      1   \n",
       "4              21  ...                       1                      0   \n",
       "\n",
       "   Credit_Limit  Total_Revolving_Bal  Avg_Open_To_Buy  Total_Amt_Chng_Q4_Q1  \\\n",
       "0       12691.0                  777          11914.0                 1.335   \n",
       "1        8256.0                  864           7392.0                 1.541   \n",
       "2        3418.0                    0           3418.0                 2.594   \n",
       "3        3313.0                 2517            796.0                 1.405   \n",
       "4        4716.0                    0           4716.0                 2.175   \n",
       "\n",
       "   Total_Trans_Amt  Total_Trans_Ct  Total_Ct_Chng_Q4_Q1  Avg_Utilization_Ratio  \n",
       "0             1144              42                1.625                  0.061  \n",
       "1             1291              33                3.714                  0.105  \n",
       "2             1887              20                2.333                  0.000  \n",
       "3             1171              20                2.333                  0.760  \n",
       "4              816              28                2.500                  0.000  \n",
       "\n",
       "[5 rows x 21 columns]"
      ]
     },
     "execution_count": 7,
     "metadata": {},
     "output_type": "execute_result"
    }
   ],
   "source": [
    "df.head()"
   ]
  },
  {
   "cell_type": "code",
   "execution_count": 8,
   "metadata": {
    "hidden": true,
    "id": "b79fce0b",
    "outputId": "2020e816-ea2a-40e4-a6e0-bfd527ece642"
   },
   "outputs": [
    {
     "data": {
      "text/html": [
       "<div>\n",
       "<style scoped>\n",
       "    .dataframe tbody tr th:only-of-type {\n",
       "        vertical-align: middle;\n",
       "    }\n",
       "\n",
       "    .dataframe tbody tr th {\n",
       "        vertical-align: top;\n",
       "    }\n",
       "\n",
       "    .dataframe thead th {\n",
       "        text-align: right;\n",
       "    }\n",
       "</style>\n",
       "<table border=\"1\" class=\"dataframe\">\n",
       "  <thead>\n",
       "    <tr style=\"text-align: right;\">\n",
       "      <th></th>\n",
       "      <th>CLIENTNUM</th>\n",
       "      <th>Attrition_Flag</th>\n",
       "      <th>Customer_Age</th>\n",
       "      <th>Gender</th>\n",
       "      <th>Dependent_count</th>\n",
       "      <th>Education_Level</th>\n",
       "      <th>Marital_Status</th>\n",
       "      <th>Income_Category</th>\n",
       "      <th>Card_Category</th>\n",
       "      <th>Months_on_book</th>\n",
       "      <th>...</th>\n",
       "      <th>Months_Inactive_12_mon</th>\n",
       "      <th>Contacts_Count_12_mon</th>\n",
       "      <th>Credit_Limit</th>\n",
       "      <th>Total_Revolving_Bal</th>\n",
       "      <th>Avg_Open_To_Buy</th>\n",
       "      <th>Total_Amt_Chng_Q4_Q1</th>\n",
       "      <th>Total_Trans_Amt</th>\n",
       "      <th>Total_Trans_Ct</th>\n",
       "      <th>Total_Ct_Chng_Q4_Q1</th>\n",
       "      <th>Avg_Utilization_Ratio</th>\n",
       "    </tr>\n",
       "  </thead>\n",
       "  <tbody>\n",
       "    <tr>\n",
       "      <th>10122</th>\n",
       "      <td>772366833</td>\n",
       "      <td>Existing Customer</td>\n",
       "      <td>50</td>\n",
       "      <td>M</td>\n",
       "      <td>2</td>\n",
       "      <td>Graduate</td>\n",
       "      <td>Single</td>\n",
       "      <td>$40K - $60K</td>\n",
       "      <td>Blue</td>\n",
       "      <td>40</td>\n",
       "      <td>...</td>\n",
       "      <td>2</td>\n",
       "      <td>3</td>\n",
       "      <td>4003.0</td>\n",
       "      <td>1851</td>\n",
       "      <td>2152.0</td>\n",
       "      <td>0.703</td>\n",
       "      <td>15476</td>\n",
       "      <td>117</td>\n",
       "      <td>0.857</td>\n",
       "      <td>0.462</td>\n",
       "    </tr>\n",
       "    <tr>\n",
       "      <th>10123</th>\n",
       "      <td>710638233</td>\n",
       "      <td>Attrited Customer</td>\n",
       "      <td>41</td>\n",
       "      <td>M</td>\n",
       "      <td>2</td>\n",
       "      <td>Unknown</td>\n",
       "      <td>Divorced</td>\n",
       "      <td>$40K - $60K</td>\n",
       "      <td>Blue</td>\n",
       "      <td>25</td>\n",
       "      <td>...</td>\n",
       "      <td>2</td>\n",
       "      <td>3</td>\n",
       "      <td>4277.0</td>\n",
       "      <td>2186</td>\n",
       "      <td>2091.0</td>\n",
       "      <td>0.804</td>\n",
       "      <td>8764</td>\n",
       "      <td>69</td>\n",
       "      <td>0.683</td>\n",
       "      <td>0.511</td>\n",
       "    </tr>\n",
       "    <tr>\n",
       "      <th>10124</th>\n",
       "      <td>716506083</td>\n",
       "      <td>Attrited Customer</td>\n",
       "      <td>44</td>\n",
       "      <td>F</td>\n",
       "      <td>1</td>\n",
       "      <td>High School</td>\n",
       "      <td>Married</td>\n",
       "      <td>Less than $40K</td>\n",
       "      <td>Blue</td>\n",
       "      <td>36</td>\n",
       "      <td>...</td>\n",
       "      <td>3</td>\n",
       "      <td>4</td>\n",
       "      <td>5409.0</td>\n",
       "      <td>0</td>\n",
       "      <td>5409.0</td>\n",
       "      <td>0.819</td>\n",
       "      <td>10291</td>\n",
       "      <td>60</td>\n",
       "      <td>0.818</td>\n",
       "      <td>0.000</td>\n",
       "    </tr>\n",
       "    <tr>\n",
       "      <th>10125</th>\n",
       "      <td>717406983</td>\n",
       "      <td>Attrited Customer</td>\n",
       "      <td>30</td>\n",
       "      <td>M</td>\n",
       "      <td>2</td>\n",
       "      <td>Graduate</td>\n",
       "      <td>Unknown</td>\n",
       "      <td>$40K - $60K</td>\n",
       "      <td>Blue</td>\n",
       "      <td>36</td>\n",
       "      <td>...</td>\n",
       "      <td>3</td>\n",
       "      <td>3</td>\n",
       "      <td>5281.0</td>\n",
       "      <td>0</td>\n",
       "      <td>5281.0</td>\n",
       "      <td>0.535</td>\n",
       "      <td>8395</td>\n",
       "      <td>62</td>\n",
       "      <td>0.722</td>\n",
       "      <td>0.000</td>\n",
       "    </tr>\n",
       "    <tr>\n",
       "      <th>10126</th>\n",
       "      <td>714337233</td>\n",
       "      <td>Attrited Customer</td>\n",
       "      <td>43</td>\n",
       "      <td>F</td>\n",
       "      <td>2</td>\n",
       "      <td>Graduate</td>\n",
       "      <td>Married</td>\n",
       "      <td>Less than $40K</td>\n",
       "      <td>Silver</td>\n",
       "      <td>25</td>\n",
       "      <td>...</td>\n",
       "      <td>2</td>\n",
       "      <td>4</td>\n",
       "      <td>10388.0</td>\n",
       "      <td>1961</td>\n",
       "      <td>8427.0</td>\n",
       "      <td>0.703</td>\n",
       "      <td>10294</td>\n",
       "      <td>61</td>\n",
       "      <td>0.649</td>\n",
       "      <td>0.189</td>\n",
       "    </tr>\n",
       "  </tbody>\n",
       "</table>\n",
       "<p>5 rows × 21 columns</p>\n",
       "</div>"
      ],
      "text/plain": [
       "       CLIENTNUM     Attrition_Flag  Customer_Age Gender  Dependent_count  \\\n",
       "10122  772366833  Existing Customer            50      M                2   \n",
       "10123  710638233  Attrited Customer            41      M                2   \n",
       "10124  716506083  Attrited Customer            44      F                1   \n",
       "10125  717406983  Attrited Customer            30      M                2   \n",
       "10126  714337233  Attrited Customer            43      F                2   \n",
       "\n",
       "      Education_Level Marital_Status Income_Category Card_Category  \\\n",
       "10122        Graduate         Single     $40K - $60K          Blue   \n",
       "10123         Unknown       Divorced     $40K - $60K          Blue   \n",
       "10124     High School        Married  Less than $40K          Blue   \n",
       "10125        Graduate        Unknown     $40K - $60K          Blue   \n",
       "10126        Graduate        Married  Less than $40K        Silver   \n",
       "\n",
       "       Months_on_book  ...  Months_Inactive_12_mon  Contacts_Count_12_mon  \\\n",
       "10122              40  ...                       2                      3   \n",
       "10123              25  ...                       2                      3   \n",
       "10124              36  ...                       3                      4   \n",
       "10125              36  ...                       3                      3   \n",
       "10126              25  ...                       2                      4   \n",
       "\n",
       "       Credit_Limit  Total_Revolving_Bal  Avg_Open_To_Buy  \\\n",
       "10122        4003.0                 1851           2152.0   \n",
       "10123        4277.0                 2186           2091.0   \n",
       "10124        5409.0                    0           5409.0   \n",
       "10125        5281.0                    0           5281.0   \n",
       "10126       10388.0                 1961           8427.0   \n",
       "\n",
       "       Total_Amt_Chng_Q4_Q1  Total_Trans_Amt  Total_Trans_Ct  \\\n",
       "10122                 0.703            15476             117   \n",
       "10123                 0.804             8764              69   \n",
       "10124                 0.819            10291              60   \n",
       "10125                 0.535             8395              62   \n",
       "10126                 0.703            10294              61   \n",
       "\n",
       "       Total_Ct_Chng_Q4_Q1  Avg_Utilization_Ratio  \n",
       "10122                0.857                  0.462  \n",
       "10123                0.683                  0.511  \n",
       "10124                0.818                  0.000  \n",
       "10125                0.722                  0.000  \n",
       "10126                0.649                  0.189  \n",
       "\n",
       "[5 rows x 21 columns]"
      ]
     },
     "execution_count": 8,
     "metadata": {},
     "output_type": "execute_result"
    }
   ],
   "source": [
    "df.tail()"
   ]
  },
  {
   "cell_type": "markdown",
   "metadata": {
    "heading_collapsed": true,
    "id": "f87a4bd5"
   },
   "source": [
    "# Análise inicial da base"
   ]
  },
  {
   "cell_type": "markdown",
   "metadata": {
    "heading_collapsed": true,
    "hidden": true
   },
   "source": [
    "## Verificação de informações gerais sobre a base de dados:"
   ]
  },
  {
   "cell_type": "code",
   "execution_count": 9,
   "metadata": {
    "hidden": true,
    "id": "64c251e8",
    "outputId": "07eab7e3-511b-4c6b-e44e-4d380e5076a2",
    "scrolled": false
   },
   "outputs": [
    {
     "name": "stdout",
     "output_type": "stream",
     "text": [
      "<class 'pandas.core.frame.DataFrame'>\n",
      "RangeIndex: 10127 entries, 0 to 10126\n",
      "Data columns (total 21 columns):\n",
      " #   Column                    Non-Null Count  Dtype  \n",
      "---  ------                    --------------  -----  \n",
      " 0   CLIENTNUM                 10127 non-null  int64  \n",
      " 1   Attrition_Flag            10127 non-null  object \n",
      " 2   Customer_Age              10127 non-null  int64  \n",
      " 3   Gender                    10127 non-null  object \n",
      " 4   Dependent_count           10127 non-null  int64  \n",
      " 5   Education_Level           10127 non-null  object \n",
      " 6   Marital_Status            10127 non-null  object \n",
      " 7   Income_Category           10127 non-null  object \n",
      " 8   Card_Category             10127 non-null  object \n",
      " 9   Months_on_book            10127 non-null  int64  \n",
      " 10  Total_Relationship_Count  10127 non-null  int64  \n",
      " 11  Months_Inactive_12_mon    10127 non-null  int64  \n",
      " 12  Contacts_Count_12_mon     10127 non-null  int64  \n",
      " 13  Credit_Limit              10127 non-null  float64\n",
      " 14  Total_Revolving_Bal       10127 non-null  int64  \n",
      " 15  Avg_Open_To_Buy           10127 non-null  float64\n",
      " 16  Total_Amt_Chng_Q4_Q1      10127 non-null  float64\n",
      " 17  Total_Trans_Amt           10127 non-null  int64  \n",
      " 18  Total_Trans_Ct            10127 non-null  int64  \n",
      " 19  Total_Ct_Chng_Q4_Q1       10127 non-null  float64\n",
      " 20  Avg_Utilization_Ratio     10127 non-null  float64\n",
      "dtypes: float64(5), int64(10), object(6)\n",
      "memory usage: 1.6+ MB\n"
     ]
    }
   ],
   "source": [
    "df.info()"
   ]
  },
  {
   "cell_type": "markdown",
   "metadata": {
    "heading_collapsed": true,
    "hidden": true
   },
   "source": [
    "## Verificação de dados nulos:"
   ]
  },
  {
   "cell_type": "code",
   "execution_count": 10,
   "metadata": {
    "hidden": true,
    "id": "99f6d141",
    "outputId": "912058e8-5ad2-4ebc-f5a8-ace396ca0978"
   },
   "outputs": [
    {
     "data": {
      "text/plain": [
       "CLIENTNUM                   0\n",
       "Attrition_Flag              0\n",
       "Customer_Age                0\n",
       "Gender                      0\n",
       "Dependent_count             0\n",
       "Education_Level             0\n",
       "Marital_Status              0\n",
       "Income_Category             0\n",
       "Card_Category               0\n",
       "Months_on_book              0\n",
       "Total_Relationship_Count    0\n",
       "Months_Inactive_12_mon      0\n",
       "Contacts_Count_12_mon       0\n",
       "Credit_Limit                0\n",
       "Total_Revolving_Bal         0\n",
       "Avg_Open_To_Buy             0\n",
       "Total_Amt_Chng_Q4_Q1        0\n",
       "Total_Trans_Amt             0\n",
       "Total_Trans_Ct              0\n",
       "Total_Ct_Chng_Q4_Q1         0\n",
       "Avg_Utilization_Ratio       0\n",
       "dtype: int64"
      ]
     },
     "execution_count": 10,
     "metadata": {},
     "output_type": "execute_result"
    }
   ],
   "source": [
    "df.isna().sum()"
   ]
  },
  {
   "cell_type": "markdown",
   "metadata": {
    "heading_collapsed": true,
    "hidden": true
   },
   "source": [
    "## Verificação mais detalhada sobre os dados para algumas das colunas:"
   ]
  },
  {
   "cell_type": "markdown",
   "metadata": {
    "heading_collapsed": true,
    "hidden": true,
    "id": "aa0b4147"
   },
   "source": [
    "### Status do cliente (*Attriction_Flag*):"
   ]
  },
  {
   "cell_type": "code",
   "execution_count": 11,
   "metadata": {
    "hidden": true,
    "id": "e75593d0",
    "outputId": "a948d479-f4ff-4c52-939b-9c45a37d8fb6",
    "scrolled": true
   },
   "outputs": [
    {
     "data": {
      "text/plain": [
       "Existing Customer    8500\n",
       "Attrited Customer    1627\n",
       "Name: Attrition_Flag, dtype: int64"
      ]
     },
     "execution_count": 11,
     "metadata": {},
     "output_type": "execute_result"
    }
   ],
   "source": [
    "df['Attrition_Flag'].value_counts(dropna = False)"
   ]
  },
  {
   "cell_type": "code",
   "execution_count": 12,
   "metadata": {
    "hidden": true,
    "id": "49b95490",
    "outputId": "b19c14f5-fcb1-42e1-fa9a-ee72d7353020"
   },
   "outputs": [
    {
     "data": {
      "image/png": "[encoded data removed]",
      "text/plain": [
       "<Figure size 432x288 with 1 Axes>"
      ]
     },
     "metadata": {
      "needs_background": "light"
     },
     "output_type": "display_data"
    }
   ],
   "source": [
    "ax = sns.barplot(x=df['Attrition_Flag'].unique(), y=df['Attrition_Flag'].value_counts(dropna=False), data=df)\n",
    "plt.ylabel(\"Quantidade\", labelpad=10)\n",
    "ax.set_xticklabels([\"Cliente ativo\", \"Cliente desistente\"], fontsize=10);"
   ]
  },
  {
   "cell_type": "markdown",
   "metadata": {
    "heading_collapsed": true,
    "hidden": true,
    "id": "47978daf"
   },
   "source": [
    "### Idade do cliente (*Customer_Age*)"
   ]
  },
  {
   "cell_type": "code",
   "execution_count": 13,
   "metadata": {
    "hidden": true,
    "id": "ac1d0f9e",
    "outputId": "61a6f62a-8ea8-4b6a-adae-78d308294108",
    "scrolled": true
   },
   "outputs": [
    {
     "data": {
      "image/png": "[encoded data removed]",
      "text/plain": [
       "<Figure size 1440x360 with 1 Axes>"
      ]
     },
     "metadata": {
      "needs_background": "light"
     },
     "output_type": "display_data"
    }
   ],
   "source": [
    "df_age = pd.DataFrame(df['Customer_Age'].value_counts(dropna=False)).reset_index()\n",
    "plt.figure(figsize=(20,5))\n",
    "ax = sns.barplot(x = df_age['index'], y = df_age['Customer_Age'], data = df_age)\n",
    "plt.ylabel(\"Quantidade de clientes\")\n",
    "plt.title(\"Todo o dataframe\")\n",
    "plt.xlabel(\"Idade\", labelpad=10);"
   ]
  },
  {
   "cell_type": "code",
   "execution_count": 14,
   "metadata": {
    "hidden": true,
    "id": "43037f20",
    "outputId": "4f0a4fda-9c6f-4e5f-aa49-1994c1126001"
   },
   "outputs": [
    {
     "data": {
      "image/png": "[encoded data removed]",
      "text/plain": [
       "<Figure size 1440x360 with 1 Axes>"
      ]
     },
     "metadata": {
      "needs_background": "light"
     },
     "output_type": "display_data"
    }
   ],
   "source": [
    "df_age_atr = pd.DataFrame(df[df['Attrition_Flag'] == 'Attrited Customer']['Customer_Age'].value_counts(dropna=False)).reset_index()\n",
    "plt.figure(figsize=(20,5))\n",
    "ax = sns.barplot(x = df_age_atr['index'], y = df_age_atr['Customer_Age'], data = df_age_atr)\n",
    "plt.ylabel(\"Quantidade de clientes\")\n",
    "plt.title(\"Apenas clientes desistentes\")\n",
    "plt.xlabel(\"Idade\", labelpad=10);"
   ]
  },
  {
   "cell_type": "markdown",
   "metadata": {
    "hidden": true,
    "id": "77f98df1"
   },
   "source": [
    "Agrupando por faixas etárias."
   ]
  },
  {
   "cell_type": "code",
   "execution_count": 15,
   "metadata": {
    "hidden": true,
    "id": "82133aad"
   },
   "outputs": [],
   "source": [
    "df_age_group = pd.DataFrame(df[['Customer_Age', 'Attrition_Flag']].copy())"
   ]
  },
  {
   "cell_type": "code",
   "execution_count": 16,
   "metadata": {
    "hidden": true,
    "id": "39d620d3"
   },
   "outputs": [],
   "source": [
    "classes = [\"< 20\",\"20-29\", \"30-39\", \"40-49\", \"50-59\", \"60-69\", \"70-79\", \">= 80\"]\n",
    "\n",
    "df_age_group.loc[(df_age_group['Customer_Age'] < 20), 'classe'] = classes[0]\n",
    "df_age_group.loc[(df_age_group['Customer_Age'] >= 20) & (df_age_group['Customer_Age'] < 30), 'classe'] = classes[1]\n",
    "df_age_group.loc[(df_age_group['Customer_Age'] >= 30) & (df_age_group['Customer_Age'] < 40), 'classe'] = classes[2]\n",
    "df_age_group.loc[(df_age_group['Customer_Age'] >= 40) & (df_age_group['Customer_Age'] < 50), 'classe'] = classes[3]\n",
    "df_age_group.loc[(df_age_group['Customer_Age'] >= 50) & (df_age_group['Customer_Age'] < 60), 'classe'] = classes[4]\n",
    "df_age_group.loc[(df_age_group['Customer_Age'] >= 60) & (df_age_group['Customer_Age'] < 70), 'classe'] = classes[5]\n",
    "df_age_group.loc[(df_age_group['Customer_Age'] >= 70) & (df_age_group['Customer_Age'] < 80), 'classe'] = classes[6]\n",
    "df_age_group.loc[(df_age_group['Customer_Age'] >= 80), 'classe'] = classes[7]"
   ]
  },
  {
   "cell_type": "code",
   "execution_count": 17,
   "metadata": {
    "hidden": true,
    "id": "870651f9",
    "outputId": "cdb3c62e-1c19-40e4-f28e-be32fc1e671d",
    "scrolled": false
   },
   "outputs": [
    {
     "data": {
      "image/png": "[encoded data removed]",
      "text/plain": [
       "<Figure size 432x288 with 1 Axes>"
      ]
     },
     "metadata": {
      "needs_background": "light"
     },
     "output_type": "display_data"
    }
   ],
   "source": [
    "df_age_interval = pd.DataFrame(df_age_group['classe'].value_counts(dropna = False))\n",
    "df_age_interval_atr = pd.DataFrame(df_age_group[df['Attrition_Flag'] == 'Attrited Customer']['classe'].value_counts(dropna = False))\n",
    "df_age_interval_concat = pd.concat([df_age_interval, df_age_interval_atr], keys = [\"Total\",\"Desistentes\"])\n",
    "df_age_interval_concat.reset_index(inplace = True)\n",
    "df_age_interval_concat.rename({\"level_1\":\"Faixa etária\",\"level_0\":\"Status do cliente\",\"classe\":\"Quantidade\"}, axis=1, inplace = True)\n",
    "df_age_interval_concat.pivot(\"Faixa etária\",\"Status do cliente\",\"Quantidade\").plot(y = [\"Total\",\"Desistentes\"], kind = 'bar')\n",
    "plt.ylabel('Nº de clientes', labelpad=10)\n",
    "plt.xticks(rotation = 0);"
   ]
  },
  {
   "cell_type": "markdown",
   "metadata": {
    "hidden": true,
    "id": "58469397"
   },
   "source": [
    "É possível observar que tanto em números absolutos quanto em porcentagem, a faixa etária que mais desistiu foi a de 40-49 anos, seguida da de 50-59 anos. Há pouca necessidade de preocupação com a perda do público jovem."
   ]
  },
  {
   "cell_type": "code",
   "execution_count": 18,
   "metadata": {
    "hidden": true,
    "id": "de4f2771",
    "outputId": "2bee2928-72d1-4f70-b5d6-d8e099ed13f7",
    "scrolled": true
   },
   "outputs": [
    {
     "data": {
      "text/html": [
       "<style  type=\"text/css\" >\n",
       "</style><table id=\"T_8b17ef0f_48b4_11ec_ba05_988389c6842f\" ><thead>    <tr>        <th class=\"col_heading level0 col0\" >Faixa de idade</th>        <th class=\"col_heading level0 col1\" >Taxa de desistência (%)</th>    </tr></thead><tbody>\n",
       "                <tr>\n",
       "                                <td id=\"T_8b17ef0f_48b4_11ec_ba05_988389c6842frow0_col0\" class=\"data row0 col0\" >20-29</td>\n",
       "                        <td id=\"T_8b17ef0f_48b4_11ec_ba05_988389c6842frow0_col1\" class=\"data row0 col1\" >8.717949</td>\n",
       "            </tr>\n",
       "            <tr>\n",
       "                                <td id=\"T_8b17ef0f_48b4_11ec_ba05_988389c6842frow1_col0\" class=\"data row1 col0\" >30-39</td>\n",
       "                        <td id=\"T_8b17ef0f_48b4_11ec_ba05_988389c6842frow1_col1\" class=\"data row1 col1\" >14.177078</td>\n",
       "            </tr>\n",
       "            <tr>\n",
       "                                <td id=\"T_8b17ef0f_48b4_11ec_ba05_988389c6842frow2_col0\" class=\"data row2 col0\" >40-49</td>\n",
       "                        <td id=\"T_8b17ef0f_48b4_11ec_ba05_988389c6842frow2_col1\" class=\"data row2 col1\" >16.926113</td>\n",
       "            </tr>\n",
       "            <tr>\n",
       "                                <td id=\"T_8b17ef0f_48b4_11ec_ba05_988389c6842frow3_col0\" class=\"data row3 col0\" >50-59</td>\n",
       "                        <td id=\"T_8b17ef0f_48b4_11ec_ba05_988389c6842frow3_col1\" class=\"data row3 col1\" >16.877919</td>\n",
       "            </tr>\n",
       "            <tr>\n",
       "                                <td id=\"T_8b17ef0f_48b4_11ec_ba05_988389c6842frow4_col0\" class=\"data row4 col0\" >60-69</td>\n",
       "                        <td id=\"T_8b17ef0f_48b4_11ec_ba05_988389c6842frow4_col1\" class=\"data row4 col1\" >13.396226</td>\n",
       "            </tr>\n",
       "            <tr>\n",
       "                                <td id=\"T_8b17ef0f_48b4_11ec_ba05_988389c6842frow5_col0\" class=\"data row5 col0\" >70-79</td>\n",
       "                        <td id=\"T_8b17ef0f_48b4_11ec_ba05_988389c6842frow5_col1\" class=\"data row5 col1\" >nan</td>\n",
       "            </tr>\n",
       "    </tbody></table>"
      ],
      "text/plain": [
       "<pandas.io.formats.style.Styler at 0x228cab3a9a0>"
      ]
     },
     "execution_count": 18,
     "metadata": {},
     "output_type": "execute_result"
    }
   ],
   "source": [
    "df_age_inside = (df_age_interval_atr/df_age_interval * 100).reset_index()\n",
    "df_age_inside.rename(columns = {'index':'Faixa de idade','classe':'Taxa de desistência (%)'}, inplace = True)\n",
    "df_age_inside.style.hide_index()"
   ]
  },
  {
   "cell_type": "markdown",
   "metadata": {
    "heading_collapsed": true,
    "hidden": true,
    "id": "6a4fe930"
   },
   "source": [
    "### Gênero para cada cliente (*Gender*)"
   ]
  },
  {
   "cell_type": "code",
   "execution_count": 19,
   "metadata": {
    "hidden": true,
    "id": "385caa41",
    "outputId": "5f2d8363-440c-4b97-c715-b4e2177d1bed"
   },
   "outputs": [
    {
     "data": {
      "image/png": "[encoded data removed]",
      "text/plain": [
       "<Figure size 576x288 with 1 Axes>"
      ]
     },
     "metadata": {
      "needs_background": "light"
     },
     "output_type": "display_data"
    }
   ],
   "source": [
    "df_gender = pd.DataFrame(df['Gender'].value_counts(dropna = False))\n",
    "df_gender_atr = pd.DataFrame(df[df['Attrition_Flag'] == 'Attrited Customer']['Gender'].value_counts(dropna = False))\n",
    "df_gender_concat = pd.concat([df_gender, df_gender_atr], keys = [\"Total\",\"Desistentes\"])\n",
    "df_gender_concat.reset_index(inplace = True)\n",
    "df_gender_concat.rename({\"level_1\":\"Gênero\",\"level_0\":\"Status do cliente\",\"Gender\":\"Quantidade\"}, axis = 1, inplace = True)\n",
    "df_gender_concat.pivot(\"Gênero\",\"Status do cliente\",\"Quantidade\").plot(y = [\"Total\",\"Desistentes\"],kind = \"bar\", figsize = (8,4))\n",
    "plt.ylabel('Nº de clientes', labelpad=10)\n",
    "plt.xticks(rotation = 0);"
   ]
  },
  {
   "cell_type": "markdown",
   "metadata": {
    "hidden": true,
    "id": "76e0e3b2"
   },
   "source": [
    "As mulheres representam a maioria dos clientes cadastrados no banco de dados e também a maioria dos desistentes."
   ]
  },
  {
   "cell_type": "code",
   "execution_count": 20,
   "metadata": {
    "hidden": true,
    "id": "29e3fd99",
    "outputId": "d590d212-a3c1-4d13-f527-22e0509a2282"
   },
   "outputs": [
    {
     "data": {
      "text/html": [
       "<style  type=\"text/css\" >\n",
       "</style><table id=\"T_933aedb8_48b4_11ec_a1d8_988389c6842f\" ><thead>    <tr>        <th class=\"col_heading level0 col0\" >Gênero</th>        <th class=\"col_heading level0 col1\" >Taxa de desistência (%)</th>    </tr></thead><tbody>\n",
       "                <tr>\n",
       "                                <td id=\"T_933aedb8_48b4_11ec_a1d8_988389c6842frow0_col0\" class=\"data row0 col0\" >F</td>\n",
       "                        <td id=\"T_933aedb8_48b4_11ec_a1d8_988389c6842frow0_col1\" class=\"data row0 col1\" >17.357223</td>\n",
       "            </tr>\n",
       "            <tr>\n",
       "                                <td id=\"T_933aedb8_48b4_11ec_a1d8_988389c6842frow1_col0\" class=\"data row1 col0\" >M</td>\n",
       "                        <td id=\"T_933aedb8_48b4_11ec_a1d8_988389c6842frow1_col1\" class=\"data row1 col1\" >14.615223</td>\n",
       "            </tr>\n",
       "    </tbody></table>"
      ],
      "text/plain": [
       "<pandas.io.formats.style.Styler at 0x228cb3cc790>"
      ]
     },
     "execution_count": 20,
     "metadata": {},
     "output_type": "execute_result"
    }
   ],
   "source": [
    "df_gender_inside = (df_gender_atr/df_gender*100).reset_index()\n",
    "df_gender_inside.rename(columns = {'index':'Gênero','Gender':'Taxa de desistência (%)'}, inplace = True)\n",
    "df_gender_inside.style.hide_index()"
   ]
  },
  {
   "cell_type": "markdown",
   "metadata": {
    "heading_collapsed": true,
    "hidden": true,
    "id": "336e0581"
   },
   "source": [
    "### Nível de educação para cada cliente (*Education_Level*)"
   ]
  },
  {
   "cell_type": "code",
   "execution_count": 21,
   "metadata": {
    "hidden": true,
    "id": "8f0d222d"
   },
   "outputs": [
    {
     "data": {
      "text/plain": [
       "Graduate         3128\n",
       "High School      2013\n",
       "Unknown          1519\n",
       "Uneducated       1487\n",
       "College          1013\n",
       "Post-Graduate     516\n",
       "Doctorate         451\n",
       "Name: Education_Level, dtype: int64"
      ]
     },
     "execution_count": 21,
     "metadata": {},
     "output_type": "execute_result"
    }
   ],
   "source": [
    "df['Education_Level'].value_counts()"
   ]
  },
  {
   "cell_type": "code",
   "execution_count": 23,
   "metadata": {
    "hidden": true,
    "id": "b7996d87",
    "outputId": "8a7b4c49-2551-4e59-cd5d-c0e95e2464c7",
    "scrolled": true
   },
   "outputs": [
    {
     "data": {
      "image/png": "[encoded data removed]",
      "text/plain": [
       "<Figure size 1080x288 with 1 Axes>"
      ]
     },
     "metadata": {
      "needs_background": "light"
     },
     "output_type": "display_data"
    }
   ],
   "source": [
    "df_education = pd.DataFrame(df[df['Attrition_Flag'] == 'Attrited Customer']['Education_Level'].value_counts(dropna = False))\n",
    "df_education_atr = pd.DataFrame(df['Education_Level'].value_counts(dropna = False))\n",
    "df_education_concat = pd.concat([df_education, df_education_atr], keys = [\"Desistentes\",\"Total\"])\n",
    "df_education_concat.reset_index(inplace=True)\n",
    "df_education_concat.rename({\"level_1\":\"Escolaridade\",\"level_0\":\"Status do cliente\",\"Education_Level\":\"Quantidade\"}, axis = 1, inplace = True)\n",
    "df_education_concat.pivot(\"Escolaridade\",\"Status do cliente\",\"Quantidade\").plot(y=[\"Total\",\"Desistentes\"], kind = 'bar', figsize = (15,4))\n",
    "plt.ylabel('Nº de clientes', labelpad=10)\n",
    "plt.xlabel('Escolaridade', labelpad=10)\n",
    "plt.xticks(rotation = 0);"
   ]
  },
  {
   "cell_type": "markdown",
   "metadata": {
    "hidden": true,
    "id": "63df9c7c"
   },
   "source": [
    "A maior parte dos clientes cadastrados possuem nível educacional até a graduação. Dentre aqueles clientes que desistiram do serviço, a maior parte também possui até a graduação.\n",
    "\n",
    "Verificando o nível de desistência dentro de cada grupo, em termos de nível educacional, podemos observar que dentre aqueles que possuem doutorado ou algum outro tipo de pós-graduação, a taxa de churn em relação ao serviço de cartão de crédito, tende a ser maior."
   ]
  },
  {
   "cell_type": "code",
   "execution_count": 24,
   "metadata": {
    "hidden": true,
    "id": "90351724",
    "outputId": "11513fe2-e40f-49c7-86c5-6c9c715b861c",
    "scrolled": false
   },
   "outputs": [
    {
     "data": {
      "text/html": [
       "<style  type=\"text/css\" >\n",
       "</style><table id=\"T_b1a9b23a_48b4_11ec_8ca3_988389c6842f\" ><thead>    <tr>        <th class=\"col_heading level0 col0\" >Nível Educacional</th>        <th class=\"col_heading level0 col1\" >Taxa de desistência (%)</th>    </tr></thead><tbody>\n",
       "                <tr>\n",
       "                                <td id=\"T_b1a9b23a_48b4_11ec_8ca3_988389c6842frow0_col0\" class=\"data row0 col0\" >College</td>\n",
       "                        <td id=\"T_b1a9b23a_48b4_11ec_8ca3_988389c6842frow0_col1\" class=\"data row0 col1\" >657.792208</td>\n",
       "            </tr>\n",
       "            <tr>\n",
       "                                <td id=\"T_b1a9b23a_48b4_11ec_8ca3_988389c6842frow1_col0\" class=\"data row1 col0\" >Doctorate</td>\n",
       "                        <td id=\"T_b1a9b23a_48b4_11ec_8ca3_988389c6842frow1_col1\" class=\"data row1 col1\" >474.736842</td>\n",
       "            </tr>\n",
       "            <tr>\n",
       "                                <td id=\"T_b1a9b23a_48b4_11ec_8ca3_988389c6842frow2_col0\" class=\"data row2 col0\" >Graduate</td>\n",
       "                        <td id=\"T_b1a9b23a_48b4_11ec_8ca3_988389c6842frow2_col1\" class=\"data row2 col1\" >642.299795</td>\n",
       "            </tr>\n",
       "            <tr>\n",
       "                                <td id=\"T_b1a9b23a_48b4_11ec_8ca3_988389c6842frow3_col0\" class=\"data row3 col0\" >High School</td>\n",
       "                        <td id=\"T_b1a9b23a_48b4_11ec_8ca3_988389c6842frow3_col1\" class=\"data row3 col1\" >657.843137</td>\n",
       "            </tr>\n",
       "            <tr>\n",
       "                                <td id=\"T_b1a9b23a_48b4_11ec_8ca3_988389c6842frow4_col0\" class=\"data row4 col0\" >Post-Graduate</td>\n",
       "                        <td id=\"T_b1a9b23a_48b4_11ec_8ca3_988389c6842frow4_col1\" class=\"data row4 col1\" >560.869565</td>\n",
       "            </tr>\n",
       "            <tr>\n",
       "                                <td id=\"T_b1a9b23a_48b4_11ec_8ca3_988389c6842frow5_col0\" class=\"data row5 col0\" >Uneducated</td>\n",
       "                        <td id=\"T_b1a9b23a_48b4_11ec_8ca3_988389c6842frow5_col1\" class=\"data row5 col1\" >627.426160</td>\n",
       "            </tr>\n",
       "            <tr>\n",
       "                                <td id=\"T_b1a9b23a_48b4_11ec_8ca3_988389c6842frow6_col0\" class=\"data row6 col0\" >Unknown</td>\n",
       "                        <td id=\"T_b1a9b23a_48b4_11ec_8ca3_988389c6842frow6_col1\" class=\"data row6 col1\" >593.359375</td>\n",
       "            </tr>\n",
       "    </tbody></table>"
      ],
      "text/plain": [
       "<pandas.io.formats.style.Styler at 0x228cc28e8e0>"
      ]
     },
     "execution_count": 24,
     "metadata": {},
     "output_type": "execute_result"
    }
   ],
   "source": [
    "df_ed_inside = (df_education_atr/df_education * 100).reset_index()\n",
    "df_ed_inside.rename(columns = {'index':'Nível Educacional','Education_Level':'Taxa de desistência (%)'}, inplace = True)\n",
    "df_ed_inside.style.hide_index()"
   ]
  },
  {
   "cell_type": "markdown",
   "metadata": {
    "heading_collapsed": true,
    "hidden": true,
    "id": "86543283"
   },
   "source": [
    "### Número de dependentes (*Dependent_count*)"
   ]
  },
  {
   "cell_type": "code",
   "execution_count": 25,
   "metadata": {
    "hidden": true,
    "id": "e5593279",
    "outputId": "2ea57202-7229-4e92-d3e8-f896103d3225",
    "scrolled": true
   },
   "outputs": [
    {
     "data": {
      "text/plain": [
       "3    2732\n",
       "2    2655\n",
       "1    1838\n",
       "4    1574\n",
       "0     904\n",
       "5     424\n",
       "Name: Dependent_count, dtype: int64"
      ]
     },
     "execution_count": 25,
     "metadata": {},
     "output_type": "execute_result"
    }
   ],
   "source": [
    "df['Dependent_count'].value_counts()"
   ]
  },
  {
   "cell_type": "code",
   "execution_count": 26,
   "metadata": {
    "hidden": true,
    "id": "0860b07b",
    "outputId": "53227a43-e1fe-4fbd-ae34-e1d824fd9908",
    "scrolled": true
   },
   "outputs": [
    {
     "data": {
      "image/png": "[encoded data removed]",
      "text/plain": [
       "<Figure size 432x288 with 1 Axes>"
      ]
     },
     "metadata": {
      "needs_background": "light"
     },
     "output_type": "display_data"
    }
   ],
   "source": [
    "df_dependent = pd.DataFrame(df['Dependent_count'].value_counts(dropna = False))\n",
    "df_dependent_atr = pd.DataFrame(df[df['Attrition_Flag'] == 'Attrited Customer']['Dependent_count'].value_counts(dropna = False))\n",
    "df_dependent_concat = pd.concat([df_dependent, df_dependent_atr], keys = [\"Total\",\"Desistentes\"])\n",
    "df_dependent_concat.reset_index(inplace = True)\n",
    "df_dependent_concat.rename({\"level_1\":\"Número de dependentes\",\"level_0\":\"Status do cliente\",\"Dependent_count\":\"Quantidade\"}, axis = 1, inplace = True)\n",
    "df_dependent_concat.pivot(\"Número de dependentes\",\"Status do cliente\",\"Quantidade\").plot(y = [\"Total\",\"Desistentes\"], kind = 'bar')\n",
    "plt.ylabel('Nº de clientes', labelpad=10)\n",
    "plt.xticks(rotation = 0);"
   ]
  },
  {
   "cell_type": "markdown",
   "metadata": {
    "hidden": true,
    "id": "bfb10e2e"
   },
   "source": [
    "Percentual de desistentes em cada grupo:"
   ]
  },
  {
   "cell_type": "code",
   "execution_count": 27,
   "metadata": {
    "hidden": true,
    "id": "88133e49",
    "outputId": "4da6249f-25af-40fe-c173-63392e6e9521"
   },
   "outputs": [
    {
     "data": {
      "text/html": [
       "<style  type=\"text/css\" >\n",
       "</style><table id=\"T_ba440b12_48b4_11ec_b16e_988389c6842f\" ><thead>    <tr>        <th class=\"col_heading level0 col0\" >Nº de Dependentes</th>        <th class=\"col_heading level0 col1\" >Taxa de desistência (%)</th>    </tr></thead><tbody>\n",
       "                <tr>\n",
       "                                <td id=\"T_ba440b12_48b4_11ec_b16e_988389c6842frow0_col0\" class=\"data row0 col0\" >3</td>\n",
       "                        <td id=\"T_ba440b12_48b4_11ec_b16e_988389c6842frow0_col1\" class=\"data row0 col1\" >17.642753</td>\n",
       "            </tr>\n",
       "            <tr>\n",
       "                                <td id=\"T_ba440b12_48b4_11ec_b16e_988389c6842frow1_col0\" class=\"data row1 col0\" >2</td>\n",
       "                        <td id=\"T_ba440b12_48b4_11ec_b16e_988389c6842frow1_col1\" class=\"data row1 col1\" >15.706215</td>\n",
       "            </tr>\n",
       "            <tr>\n",
       "                                <td id=\"T_ba440b12_48b4_11ec_b16e_988389c6842frow2_col0\" class=\"data row2 col0\" >1</td>\n",
       "                        <td id=\"T_ba440b12_48b4_11ec_b16e_988389c6842frow2_col1\" class=\"data row2 col1\" >14.635473</td>\n",
       "            </tr>\n",
       "            <tr>\n",
       "                                <td id=\"T_ba440b12_48b4_11ec_b16e_988389c6842frow3_col0\" class=\"data row3 col0\" >4</td>\n",
       "                        <td id=\"T_ba440b12_48b4_11ec_b16e_988389c6842frow3_col1\" class=\"data row3 col1\" >16.518424</td>\n",
       "            </tr>\n",
       "            <tr>\n",
       "                                <td id=\"T_ba440b12_48b4_11ec_b16e_988389c6842frow4_col0\" class=\"data row4 col0\" >0</td>\n",
       "                        <td id=\"T_ba440b12_48b4_11ec_b16e_988389c6842frow4_col1\" class=\"data row4 col1\" >14.933628</td>\n",
       "            </tr>\n",
       "            <tr>\n",
       "                                <td id=\"T_ba440b12_48b4_11ec_b16e_988389c6842frow5_col0\" class=\"data row5 col0\" >5</td>\n",
       "                        <td id=\"T_ba440b12_48b4_11ec_b16e_988389c6842frow5_col1\" class=\"data row5 col1\" >15.094340</td>\n",
       "            </tr>\n",
       "    </tbody></table>"
      ],
      "text/plain": [
       "<pandas.io.formats.style.Styler at 0x228ccbf3100>"
      ]
     },
     "execution_count": 27,
     "metadata": {},
     "output_type": "execute_result"
    }
   ],
   "source": [
    "df_dp_inside = (df_dependent_atr/df_dependent * 100).reset_index()\n",
    "df_dp_inside.rename(columns = {'index':'Nº de Dependentes','Dependent_count':'Taxa de desistência (%)'}, inplace = True)\n",
    "df_dp_inside.style.hide_index()"
   ]
  },
  {
   "cell_type": "markdown",
   "metadata": {
    "heading_collapsed": true,
    "hidden": true,
    "id": "44598155"
   },
   "source": [
    "### Estado civil (*Marital_Status*)"
   ]
  },
  {
   "cell_type": "code",
   "execution_count": 28,
   "metadata": {
    "hidden": true,
    "id": "38e3ab72",
    "outputId": "d5f8d02f-1a93-4e10-a7bb-2b4319391f21",
    "scrolled": true
   },
   "outputs": [
    {
     "data": {
      "text/plain": [
       "Married     4687\n",
       "Single      3943\n",
       "Unknown      749\n",
       "Divorced     748\n",
       "Name: Marital_Status, dtype: int64"
      ]
     },
     "execution_count": 28,
     "metadata": {},
     "output_type": "execute_result"
    }
   ],
   "source": [
    "df['Marital_Status'].value_counts(dropna=False)"
   ]
  },
  {
   "cell_type": "code",
   "execution_count": 29,
   "metadata": {
    "hidden": true,
    "id": "606609fb",
    "outputId": "a292e62d-8ef1-4e1d-ac6c-5a24b9a46aaf",
    "scrolled": true
   },
   "outputs": [
    {
     "data": {
      "image/png": "[encoded data removed]",
      "text/plain": [
       "<Figure size 432x288 with 1 Axes>"
      ]
     },
     "metadata": {
      "needs_background": "light"
     },
     "output_type": "display_data"
    }
   ],
   "source": [
    "df_marital = pd.DataFrame(df['Marital_Status'].value_counts(dropna=False))\n",
    "df_marital_atr = pd.DataFrame(df[df['Attrition_Flag'] == 'Attrited Customer']['Marital_Status'].value_counts(dropna=False))\n",
    "df_marital_concat = pd.concat([df_marital, df_marital_atr], keys = [\"Total\",\"Desistentes\"])\n",
    "df_marital_concat.reset_index(inplace=True)\n",
    "df_marital_concat.rename({\"level_1\":\"Status civil\",\"level_0\":\"Status do cliente\",\"Marital_Status\":\"Quantidade\"}, axis = 1, inplace = True)\n",
    "df_marital_concat.pivot(\"Status civil\",\"Status do cliente\",\"Quantidade\").plot(y=[\"Total\",\"Desistentes\"], kind = 'bar');\n",
    "plt.ylabel('Nº de clientes', labelpad=10)\n",
    "plt.xticks(rotation = 0);"
   ]
  },
  {
   "cell_type": "markdown",
   "metadata": {
    "hidden": true,
    "id": "0cf139da"
   },
   "source": [
    "Percentual de desistentes em cada grupo:"
   ]
  },
  {
   "cell_type": "code",
   "execution_count": null,
   "metadata": {
    "hidden": true,
    "id": "319504ac",
    "outputId": "d64ff872-7c83-42b0-d4dd-32a9d1da7e07"
   },
   "outputs": [],
   "source": [
    "df_marital_inside = (df_marital_atr/df_marital * 100).reset_index()\n",
    "df_marital_inside.rename(columns = {'index':'Estado Civil','Marital_Status':'Taxa de desistência (%)'}, inplace = True)\n",
    "df_marital_inside.style.hide_index()"
   ]
  },
  {
   "cell_type": "markdown",
   "metadata": {
    "heading_collapsed": true,
    "hidden": true,
    "id": "039cc8ed"
   },
   "source": [
    "### Faixa de renda dos clientes (*Income_Category*)"
   ]
  },
  {
   "cell_type": "code",
   "execution_count": 30,
   "metadata": {
    "hidden": true,
    "id": "a6ae7d34",
    "outputId": "3654c871-b9a2-4c0b-a827-3638769ac633",
    "scrolled": false
   },
   "outputs": [
    {
     "data": {
      "text/plain": [
       "Less than $40K    3561\n",
       "$40K - $60K       1790\n",
       "$80K - $120K      1535\n",
       "$60K - $80K       1402\n",
       "Unknown           1112\n",
       "$120K +            727\n",
       "Name: Income_Category, dtype: int64"
      ]
     },
     "execution_count": 30,
     "metadata": {},
     "output_type": "execute_result"
    }
   ],
   "source": [
    "df['Income_Category'].value_counts(dropna=False)"
   ]
  },
  {
   "cell_type": "code",
   "execution_count": 31,
   "metadata": {
    "hidden": true,
    "id": "b8d0e354",
    "outputId": "67ae1d5c-c7d5-4612-b4d4-a787bfbd055d",
    "scrolled": true
   },
   "outputs": [
    {
     "data": {
      "image/png": "[encoded data removed]",
      "text/plain": [
       "<Figure size 432x288 with 1 Axes>"
      ]
     },
     "metadata": {
      "needs_background": "light"
     },
     "output_type": "display_data"
    }
   ],
   "source": [
    "df_inc = pd.DataFrame(df['Income_Category'].value_counts(dropna = False))\n",
    "df_inc_atr = pd.DataFrame(df[df['Attrition_Flag'] == 'Attrited Customer']['Income_Category'].value_counts(dropna = False))\n",
    "df_inc_concat = pd.concat([df_inc, df_inc_atr], keys = [\"Total\", \"Desistentes\"])\n",
    "df_inc_concat.reset_index(inplace = True)\n",
    "df_inc_concat.rename({\"level_1\":\"Renda\",\"level_0\":\"Status do cliente\",\"Income_Category\":\"Quantidade\"}, axis = 1, inplace = True)\n",
    "df_inc_concat.pivot(\"Renda\",\"Status do cliente\",\"Quantidade\").plot(y = [\"Total\",\"Desistentes\"], kind = 'bar')\n",
    "plt.ylabel('Nº de clientes', labelpad=10)\n",
    "plt.xticks(rotation = 30);"
   ]
  },
  {
   "cell_type": "markdown",
   "metadata": {
    "hidden": true,
    "id": "923d2e04"
   },
   "source": [
    "Os indíces de desistência são mais altos entre pessoas que ganham menos de 40K e mais de 120K."
   ]
  },
  {
   "cell_type": "code",
   "execution_count": 32,
   "metadata": {
    "hidden": true,
    "id": "b8ce0ada",
    "outputId": "9fd6ac5c-1b7f-480a-986c-38f8848c3c70",
    "scrolled": true
   },
   "outputs": [
    {
     "data": {
      "text/html": [
       "<style  type=\"text/css\" >\n",
       "</style><table id=\"T_cc6fcb4c_48b4_11ec_ac73_988389c6842f\" ><thead>    <tr>        <th class=\"col_heading level0 col0\" >Faixa de Renda</th>        <th class=\"col_heading level0 col1\" >Taxa de desistência (%)</th>    </tr></thead><tbody>\n",
       "                <tr>\n",
       "                                <td id=\"T_cc6fcb4c_48b4_11ec_ac73_988389c6842frow0_col0\" class=\"data row0 col0\" >Less than $40K</td>\n",
       "                        <td id=\"T_cc6fcb4c_48b4_11ec_ac73_988389c6842frow0_col1\" class=\"data row0 col1\" >17.186184</td>\n",
       "            </tr>\n",
       "            <tr>\n",
       "                                <td id=\"T_cc6fcb4c_48b4_11ec_ac73_988389c6842frow1_col0\" class=\"data row1 col0\" >$40K - $60K</td>\n",
       "                        <td id=\"T_cc6fcb4c_48b4_11ec_ac73_988389c6842frow1_col1\" class=\"data row1 col1\" >15.139665</td>\n",
       "            </tr>\n",
       "            <tr>\n",
       "                                <td id=\"T_cc6fcb4c_48b4_11ec_ac73_988389c6842frow2_col0\" class=\"data row2 col0\" >$80K - $120K</td>\n",
       "                        <td id=\"T_cc6fcb4c_48b4_11ec_ac73_988389c6842frow2_col1\" class=\"data row2 col1\" >15.765472</td>\n",
       "            </tr>\n",
       "            <tr>\n",
       "                                <td id=\"T_cc6fcb4c_48b4_11ec_ac73_988389c6842frow3_col0\" class=\"data row3 col0\" >$60K - $80K</td>\n",
       "                        <td id=\"T_cc6fcb4c_48b4_11ec_ac73_988389c6842frow3_col1\" class=\"data row3 col1\" >13.480742</td>\n",
       "            </tr>\n",
       "            <tr>\n",
       "                                <td id=\"T_cc6fcb4c_48b4_11ec_ac73_988389c6842frow4_col0\" class=\"data row4 col0\" >Unknown</td>\n",
       "                        <td id=\"T_cc6fcb4c_48b4_11ec_ac73_988389c6842frow4_col1\" class=\"data row4 col1\" >16.816547</td>\n",
       "            </tr>\n",
       "            <tr>\n",
       "                                <td id=\"T_cc6fcb4c_48b4_11ec_ac73_988389c6842frow5_col0\" class=\"data row5 col0\" >$120K +</td>\n",
       "                        <td id=\"T_cc6fcb4c_48b4_11ec_ac73_988389c6842frow5_col1\" class=\"data row5 col1\" >17.331499</td>\n",
       "            </tr>\n",
       "    </tbody></table>"
      ],
      "text/plain": [
       "<pandas.io.formats.style.Styler at 0x228cc041a30>"
      ]
     },
     "execution_count": 32,
     "metadata": {},
     "output_type": "execute_result"
    }
   ],
   "source": [
    "df_inc_inside = (df_inc_atr/df_inc * 100).reset_index()\n",
    "df_inc_inside.rename(columns = {'index':'Faixa de Renda','Income_Category':'Taxa de desistência (%)'}, inplace = True)\n",
    "df_inc_inside.style.hide_index()"
   ]
  },
  {
   "cell_type": "markdown",
   "metadata": {
    "heading_collapsed": true,
    "hidden": true,
    "id": "7ff11df8"
   },
   "source": [
    "### Categoria do cartão para cada cliente (*Card_Category*)"
   ]
  },
  {
   "cell_type": "code",
   "execution_count": 33,
   "metadata": {
    "hidden": true,
    "id": "cfceff0a",
    "outputId": "33835450-6fb5-4e00-e981-7547dd7c1ff9",
    "scrolled": true
   },
   "outputs": [
    {
     "data": {
      "text/plain": [
       "Blue        9436\n",
       "Silver       555\n",
       "Gold         116\n",
       "Platinum      20\n",
       "Name: Card_Category, dtype: int64"
      ]
     },
     "execution_count": 33,
     "metadata": {},
     "output_type": "execute_result"
    }
   ],
   "source": [
    "df['Card_Category'].value_counts(dropna=False)"
   ]
  },
  {
   "cell_type": "code",
   "execution_count": 34,
   "metadata": {
    "hidden": true,
    "id": "39d666ce",
    "outputId": "a6ea62ae-33fc-410d-9b61-5da36e2ba37d",
    "scrolled": false
   },
   "outputs": [
    {
     "data": {
      "image/png": "[encoded data removed]",
      "text/plain": [
       "<Figure size 1440x360 with 1 Axes>"
      ]
     },
     "metadata": {
      "needs_background": "light"
     },
     "output_type": "display_data"
    }
   ],
   "source": [
    "df_card = pd.DataFrame(df['Card_Category'].value_counts(dropna = False))\n",
    "df_card_atr = pd.DataFrame(df[df['Attrition_Flag'] == 'Attrited Customer']['Card_Category'].value_counts(dropna = False))\n",
    "df_card_concat = pd.concat([df_card, df_card_atr], keys = [\"Total\", \"Desistentes\"])\n",
    "df_card_concat.reset_index(inplace = True)\n",
    "df_card_concat.rename({\"level_1\":\"Categoria do cartão\",\"level_0\":\"Status do cliente\",\"Card_Category\":\"Quantidade\"}, axis = 1, inplace = True)\n",
    "df_card_concat.pivot(\"Categoria do cartão\",\"Status do cliente\",\"Quantidade\").plot(y = [\"Total\",\"Desistentes\"], kind = 'barh', figsize = (20,5))\n",
    "plt.xlabel('Nº de clientes', labelpad=10);"
   ]
  },
  {
   "cell_type": "markdown",
   "metadata": {
    "hidden": true,
    "id": "18d13728"
   },
   "source": [
    "Embora poucas pessoas possuam o cartão platinum, é nesta categoria que encontramos a maior taxa de desistência, como vemos na analise de cada grupo a seguir."
   ]
  },
  {
   "cell_type": "code",
   "execution_count": 35,
   "metadata": {
    "hidden": true,
    "id": "f988cb0e",
    "outputId": "e6fedac2-89c3-42e9-e98f-02f87e569962"
   },
   "outputs": [
    {
     "data": {
      "text/html": [
       "<style  type=\"text/css\" >\n",
       "</style><table id=\"T_d4be7a5f_48b4_11ec_bd28_988389c6842f\" ><thead>    <tr>        <th class=\"col_heading level0 col0\" >Categoria do Cartão</th>        <th class=\"col_heading level0 col1\" >Taxa de desistência (%)</th>    </tr></thead><tbody>\n",
       "                <tr>\n",
       "                                <td id=\"T_d4be7a5f_48b4_11ec_bd28_988389c6842frow0_col0\" class=\"data row0 col0\" >Blue</td>\n",
       "                        <td id=\"T_d4be7a5f_48b4_11ec_bd28_988389c6842frow0_col1\" class=\"data row0 col1\" >16.097923</td>\n",
       "            </tr>\n",
       "            <tr>\n",
       "                                <td id=\"T_d4be7a5f_48b4_11ec_bd28_988389c6842frow1_col0\" class=\"data row1 col0\" >Silver</td>\n",
       "                        <td id=\"T_d4be7a5f_48b4_11ec_bd28_988389c6842frow1_col1\" class=\"data row1 col1\" >14.774775</td>\n",
       "            </tr>\n",
       "            <tr>\n",
       "                                <td id=\"T_d4be7a5f_48b4_11ec_bd28_988389c6842frow2_col0\" class=\"data row2 col0\" >Gold</td>\n",
       "                        <td id=\"T_d4be7a5f_48b4_11ec_bd28_988389c6842frow2_col1\" class=\"data row2 col1\" >18.103448</td>\n",
       "            </tr>\n",
       "            <tr>\n",
       "                                <td id=\"T_d4be7a5f_48b4_11ec_bd28_988389c6842frow3_col0\" class=\"data row3 col0\" >Platinum</td>\n",
       "                        <td id=\"T_d4be7a5f_48b4_11ec_bd28_988389c6842frow3_col1\" class=\"data row3 col1\" >25.000000</td>\n",
       "            </tr>\n",
       "    </tbody></table>"
      ],
      "text/plain": [
       "<pandas.io.formats.style.Styler at 0x228cc471430>"
      ]
     },
     "execution_count": 35,
     "metadata": {},
     "output_type": "execute_result"
    }
   ],
   "source": [
    "df_card_inside = (df_card_atr/df_card * 100).reset_index()\n",
    "df_card_inside.rename(columns = {'index':'Categoria do Cartão','Card_Category':'Taxa de desistência (%)'}, inplace = True)\n",
    "df_card_inside.style.hide_index()"
   ]
  },
  {
   "cell_type": "markdown",
   "metadata": {
    "heading_collapsed": true,
    "hidden": true,
    "id": "806eebab"
   },
   "source": [
    "### Tempo de relacionamento para cada cliente com o banco (*Months_on_book*)"
   ]
  },
  {
   "cell_type": "markdown",
   "metadata": {
    "hidden": true,
    "id": "9ca6764d"
   },
   "source": [
    "Observamos que possivelmente houve um evento pontual de marketing ou de lançamento de produtos há 36 meses, quando houve a maior entrada de clientes no banco. Também vemos que não existem clientes com menos de 12 meses de relacionamento com o banco e que os mais antigos possuem cerca de 5 anos de relacionamento."
   ]
  },
  {
   "cell_type": "code",
   "execution_count": 36,
   "metadata": {
    "hidden": true,
    "id": "84299a00",
    "outputId": "9f525fb2-1d2e-4671-d270-e8689554f692"
   },
   "outputs": [],
   "source": [
    "df_book = pd.DataFrame(df['Months_on_book'].value_counts(dropna=False))\n",
    "df_book.reset_index(inplace = True)"
   ]
  },
  {
   "cell_type": "code",
   "execution_count": 37,
   "metadata": {
    "hidden": true
   },
   "outputs": [
    {
     "data": {
      "image/png": "[encoded data removed]",
      "text/plain": [
       "<Figure size 1080x216 with 1 Axes>"
      ]
     },
     "metadata": {
      "needs_background": "light"
     },
     "output_type": "display_data"
    }
   ],
   "source": [
    "plt.figure(figsize = (15,3))\n",
    "ax = sns.barplot(x = df_book['index'], y = df_book['Months_on_book'], data = df_book)\n",
    "plt.ylabel(\"Quantidade de clientes\", labelpad=10)\n",
    "plt.xlabel(\"Período em meses de relacionamento do cliente\", labelpad=10)\n",
    "plt.title(\"Análise de tempo de relacionamento dos clientes (Total)\");"
   ]
  },
  {
   "cell_type": "code",
   "execution_count": 38,
   "metadata": {
    "hidden": true
   },
   "outputs": [],
   "source": [
    "df_book_atr = pd.DataFrame(df[df['Attrition_Flag'] == 'Attrited Customer']['Months_on_book'].value_counts(dropna = False))\n",
    "df_book_atr.reset_index(inplace = True)"
   ]
  },
  {
   "cell_type": "code",
   "execution_count": 39,
   "metadata": {
    "hidden": true,
    "id": "6fa6000c",
    "outputId": "6d159411-681e-4a93-ad35-b600f5f2b674",
    "scrolled": true
   },
   "outputs": [
    {
     "data": {
      "image/png": "[encoded data removed]",
      "text/plain": [
       "<Figure size 1080x216 with 1 Axes>"
      ]
     },
     "metadata": {
      "needs_background": "light"
     },
     "output_type": "display_data"
    }
   ],
   "source": [
    "plt.figure(figsize = (15,3))\n",
    "ax = sns.barplot(x = df_book['index'], y = df_book_atr['Months_on_book'], data= df_book_atr)\n",
    "plt.ylabel(\"Quantidade de clientes\", labelpad=10)\n",
    "plt.xlabel(\"Período em meses de relacionamento do cliente\", labelpad=10)\n",
    "plt.title(\"Análise de tempo de relacionamento dos clientes (Desistentes)\");"
   ]
  },
  {
   "cell_type": "markdown",
   "metadata": {
    "hidden": true
   },
   "source": [
    "**Organizando o tempo de relacionamento por semestres:**"
   ]
  },
  {
   "cell_type": "code",
   "execution_count": 40,
   "metadata": {
    "hidden": true
   },
   "outputs": [],
   "source": [
    "df_book['semestre'] = (df_book['index']/6).apply(math.ceil)\n",
    "df_book.drop(columns = \"index\", inplace = True)\n",
    "df_book = pd.DataFrame(df_book.groupby('semestre')['Months_on_book'].sum()).reset_index()"
   ]
  },
  {
   "cell_type": "code",
   "execution_count": 41,
   "metadata": {
    "hidden": true
   },
   "outputs": [],
   "source": [
    "df_book_atr['semestre'] = (df_book_atr['index']/6).apply(math.ceil)\n",
    "df_book_atr.drop(columns = 'index', inplace = True)\n",
    "df_book_atr = pd.DataFrame(df_book_atr.groupby('semestre')['Months_on_book'].sum()).reset_index()"
   ]
  },
  {
   "cell_type": "code",
   "execution_count": 42,
   "metadata": {
    "hidden": true
   },
   "outputs": [
    {
     "data": {
      "image/png": "[encoded data removed]",
      "text/plain": [
       "<Figure size 432x288 with 1 Axes>"
      ]
     },
     "metadata": {
      "needs_background": "light"
     },
     "output_type": "display_data"
    }
   ],
   "source": [
    "df_book_concat = pd.concat([df_book, df_book_atr], keys=[\"Total\", \"Desistentes\"])\n",
    "df_book_concat.reset_index(inplace = True)\n",
    "df_book_concat.rename({\"semestre\":\"Semestre de relacionamento com o banco\",\"level_0\":\"Status do cliente\", \"Months_on_book\":\"Quantidade\"}, axis = 1, inplace = True)\n",
    "df_book_concat.pivot(\"Semestre de relacionamento com o banco\",\"Status do cliente\",\"Quantidade\").plot(y = [\"Total\", \"Desistentes\"], kind = 'bar')\n",
    "plt.ylabel('Nº de clientes')\n",
    "plt.xticks(rotation=0);"
   ]
  },
  {
   "cell_type": "markdown",
   "metadata": {
    "heading_collapsed": true,
    "hidden": true,
    "id": "ac37d501"
   },
   "source": [
    "### Meses de inatividade dos clientes (*Months_Inactive_12_mon*)"
   ]
  },
  {
   "cell_type": "code",
   "execution_count": 43,
   "metadata": {
    "hidden": true,
    "id": "7f7456a6",
    "outputId": "5e2f0dd9-03b5-40d4-d678-51cadfd0a922",
    "scrolled": true
   },
   "outputs": [
    {
     "data": {
      "text/plain": [
       "3    0.379777\n",
       "2    0.324084\n",
       "1    0.220500\n",
       "4    0.042954\n",
       "5    0.017577\n",
       "6    0.012244\n",
       "0    0.002864\n",
       "Name: Months_Inactive_12_mon, dtype: float64"
      ]
     },
     "execution_count": 43,
     "metadata": {},
     "output_type": "execute_result"
    }
   ],
   "source": [
    "df['Months_Inactive_12_mon'].value_counts(normalize = True)"
   ]
  },
  {
   "cell_type": "code",
   "execution_count": 44,
   "metadata": {
    "hidden": true,
    "id": "232c4d9f",
    "outputId": "55e7282a-0fae-4a39-9810-d87a43b9772c",
    "scrolled": true
   },
   "outputs": [
    {
     "data": {
      "image/png": "[encoded data removed]",
      "text/plain": [
       "<Figure size 432x288 with 1 Axes>"
      ]
     },
     "metadata": {
      "needs_background": "light"
     },
     "output_type": "display_data"
    }
   ],
   "source": [
    "df_inac = pd.DataFrame(df['Months_Inactive_12_mon'].value_counts(dropna=False))\n",
    "df_inac_atr = pd.DataFrame(df[df['Attrition_Flag'] == 'Attrited Customer']['Months_Inactive_12_mon'].value_counts(dropna = False))\n",
    "df_inac_concat = pd.concat([df_inac, df_inac_atr], keys = [\"Total\",\"Desistentes\"])\n",
    "df_inac_concat.reset_index(inplace = True)\n",
    "df_inac_concat.rename({\"level_1\":\"Meses de inatividade nos últimos 12 meses\",\"level_0\":\"Status do cliente\",\"Months_Inactive_12_mon\":\"Quantidade\"}, axis = 1, inplace = True)\n",
    "df_inac_concat.pivot(\"Meses de inatividade nos últimos 12 meses\",\"Status do cliente\",\"Quantidade\").plot(y = [\"Total\", \"Desistentes\"], kind = 'bar')\n",
    "plt.ylabel('Nº de clientes', labelpad=10)\n",
    "plt.xticks(rotation = 0);"
   ]
  },
  {
   "cell_type": "markdown",
   "metadata": {
    "hidden": true,
    "id": "8a7e698e"
   },
   "source": [
    "Metade das pessoas que não ficaram inativas desistiram. Em termos absolutos, apenas 15 pessoas não ficaram inativas nos últimos meses."
   ]
  },
  {
   "cell_type": "code",
   "execution_count": 45,
   "metadata": {
    "hidden": true,
    "id": "d95c1be8",
    "outputId": "4685940a-8974-42cd-d887-014d717760cc"
   },
   "outputs": [
    {
     "data": {
      "text/html": [
       "<style  type=\"text/css\" >\n",
       "</style><table id=\"T_edb58cfe_48b4_11ec_95d6_988389c6842f\" ><thead>    <tr>        <th class=\"col_heading level0 col0\" >Meses Inativos</th>        <th class=\"col_heading level0 col1\" >Taxa de desistência (%)</th>    </tr></thead><tbody>\n",
       "                <tr>\n",
       "                                <td id=\"T_edb58cfe_48b4_11ec_95d6_988389c6842frow0_col0\" class=\"data row0 col0\" >0</td>\n",
       "                        <td id=\"T_edb58cfe_48b4_11ec_95d6_988389c6842frow0_col1\" class=\"data row0 col1\" >51.724138</td>\n",
       "            </tr>\n",
       "            <tr>\n",
       "                                <td id=\"T_edb58cfe_48b4_11ec_95d6_988389c6842frow1_col0\" class=\"data row1 col0\" >1</td>\n",
       "                        <td id=\"T_edb58cfe_48b4_11ec_95d6_988389c6842frow1_col1\" class=\"data row1 col1\" >4.478280</td>\n",
       "            </tr>\n",
       "            <tr>\n",
       "                                <td id=\"T_edb58cfe_48b4_11ec_95d6_988389c6842frow2_col0\" class=\"data row2 col0\" >2</td>\n",
       "                        <td id=\"T_edb58cfe_48b4_11ec_95d6_988389c6842frow2_col1\" class=\"data row2 col1\" >15.386959</td>\n",
       "            </tr>\n",
       "            <tr>\n",
       "                                <td id=\"T_edb58cfe_48b4_11ec_95d6_988389c6842frow3_col0\" class=\"data row3 col0\" >3</td>\n",
       "                        <td id=\"T_edb58cfe_48b4_11ec_95d6_988389c6842frow3_col1\" class=\"data row3 col1\" >21.476859</td>\n",
       "            </tr>\n",
       "            <tr>\n",
       "                                <td id=\"T_edb58cfe_48b4_11ec_95d6_988389c6842frow4_col0\" class=\"data row4 col0\" >4</td>\n",
       "                        <td id=\"T_edb58cfe_48b4_11ec_95d6_988389c6842frow4_col1\" class=\"data row4 col1\" >29.885057</td>\n",
       "            </tr>\n",
       "            <tr>\n",
       "                                <td id=\"T_edb58cfe_48b4_11ec_95d6_988389c6842frow5_col0\" class=\"data row5 col0\" >5</td>\n",
       "                        <td id=\"T_edb58cfe_48b4_11ec_95d6_988389c6842frow5_col1\" class=\"data row5 col1\" >17.977528</td>\n",
       "            </tr>\n",
       "            <tr>\n",
       "                                <td id=\"T_edb58cfe_48b4_11ec_95d6_988389c6842frow6_col0\" class=\"data row6 col0\" >6</td>\n",
       "                        <td id=\"T_edb58cfe_48b4_11ec_95d6_988389c6842frow6_col1\" class=\"data row6 col1\" >15.322581</td>\n",
       "            </tr>\n",
       "    </tbody></table>"
      ],
      "text/plain": [
       "<pandas.io.formats.style.Styler at 0x228ccdbda30>"
      ]
     },
     "execution_count": 45,
     "metadata": {},
     "output_type": "execute_result"
    }
   ],
   "source": [
    "df_inac_inside = (df_inac_atr/df_inac * 100).reset_index()\n",
    "df_inac_inside.rename(columns = {'index':'Meses Inativos','Months_Inactive_12_mon':'Taxa de desistência (%)'}, inplace = True)\n",
    "df_inac_inside.style.hide_index()"
   ]
  },
  {
   "cell_type": "markdown",
   "metadata": {
    "heading_collapsed": true,
    "hidden": true,
    "id": "4d93be08"
   },
   "source": [
    "### Número de contatos do cliente com o banco (*Contacts_Count_12_mon*)"
   ]
  },
  {
   "cell_type": "code",
   "execution_count": 46,
   "metadata": {
    "hidden": true,
    "id": "5cbf0c11",
    "outputId": "50a072c4-896e-4a0c-8617-1b0b988f5457",
    "scrolled": true
   },
   "outputs": [
    {
     "data": {
      "text/plain": [
       "3    3380\n",
       "2    3227\n",
       "1    1499\n",
       "4    1392\n",
       "0     399\n",
       "5     176\n",
       "6      54\n",
       "Name: Contacts_Count_12_mon, dtype: int64"
      ]
     },
     "execution_count": 46,
     "metadata": {},
     "output_type": "execute_result"
    }
   ],
   "source": [
    "df['Contacts_Count_12_mon'].value_counts()"
   ]
  },
  {
   "cell_type": "code",
   "execution_count": 47,
   "metadata": {
    "hidden": true,
    "id": "b5af41b4",
    "outputId": "369916a5-062e-454e-e0a4-c9d38e7e7215"
   },
   "outputs": [
    {
     "data": {
      "image/png": "[encoded data removed]",
      "text/plain": [
       "<Figure size 432x288 with 1 Axes>"
      ]
     },
     "metadata": {
      "needs_background": "light"
     },
     "output_type": "display_data"
    }
   ],
   "source": [
    "df_ctc = pd.DataFrame(df['Contacts_Count_12_mon'].value_counts(dropna=False))\n",
    "df_ctc_atr = pd.DataFrame(df[df['Attrition_Flag'] == 'Attrited Customer']['Contacts_Count_12_mon'].value_counts(dropna=False))\n",
    "df_ctc_concat = pd.concat([df_ctc, df_ctc_atr], keys = [\"Total\", \"Desistentes\"])\n",
    "df_ctc_concat.reset_index(inplace = True)\n",
    "df_ctc_concat.rename({\"level_1\":\"Contato nos últimos 12 meses\",\"level_0\":\"Status do cliente\",\"Contacts_Count_12_mon\":\"Quantidade\"}, axis = 1, inplace = True)\n",
    "df_ctc_concat.pivot(\"Contato nos últimos 12 meses\",\"Status do cliente\",\"Quantidade\").plot(y = [\"Total\",\"Desistentes\"], kind = 'bar')\n",
    "plt.ylabel('Nº de clientes', labelpad=10)\n",
    "plt.xticks(rotation = 0);"
   ]
  },
  {
   "cell_type": "markdown",
   "metadata": {
    "hidden": true,
    "id": "0b301dd0"
   },
   "source": [
    "Quanto mais contatos existem entre banco e cliente, maior é a probabilidade de desistência."
   ]
  },
  {
   "cell_type": "code",
   "execution_count": 48,
   "metadata": {
    "hidden": true,
    "id": "d8dff9b3",
    "outputId": "ae415b7e-f512-4e32-d5c1-810f868f8f62",
    "scrolled": true
   },
   "outputs": [
    {
     "data": {
      "text/html": [
       "<style  type=\"text/css\" >\n",
       "</style><table id=\"T_f720c119_48b4_11ec_95c6_988389c6842f\" ><thead>    <tr>        <th class=\"col_heading level0 col0\" >Nº de Contatos</th>        <th class=\"col_heading level0 col1\" >Taxa de desistência (%)</th>    </tr></thead><tbody>\n",
       "                <tr>\n",
       "                                <td id=\"T_f720c119_48b4_11ec_95c6_988389c6842frow0_col0\" class=\"data row0 col0\" >0</td>\n",
       "                        <td id=\"T_f720c119_48b4_11ec_95c6_988389c6842frow0_col1\" class=\"data row0 col1\" >1.754386</td>\n",
       "            </tr>\n",
       "            <tr>\n",
       "                                <td id=\"T_f720c119_48b4_11ec_95c6_988389c6842frow1_col0\" class=\"data row1 col0\" >1</td>\n",
       "                        <td id=\"T_f720c119_48b4_11ec_95c6_988389c6842frow1_col1\" class=\"data row1 col1\" >7.204803</td>\n",
       "            </tr>\n",
       "            <tr>\n",
       "                                <td id=\"T_f720c119_48b4_11ec_95c6_988389c6842frow2_col0\" class=\"data row2 col0\" >2</td>\n",
       "                        <td id=\"T_f720c119_48b4_11ec_95c6_988389c6842frow2_col1\" class=\"data row2 col1\" >12.488379</td>\n",
       "            </tr>\n",
       "            <tr>\n",
       "                                <td id=\"T_f720c119_48b4_11ec_95c6_988389c6842frow3_col0\" class=\"data row3 col0\" >3</td>\n",
       "                        <td id=\"T_f720c119_48b4_11ec_95c6_988389c6842frow3_col1\" class=\"data row3 col1\" >20.147929</td>\n",
       "            </tr>\n",
       "            <tr>\n",
       "                                <td id=\"T_f720c119_48b4_11ec_95c6_988389c6842frow4_col0\" class=\"data row4 col0\" >4</td>\n",
       "                        <td id=\"T_f720c119_48b4_11ec_95c6_988389c6842frow4_col1\" class=\"data row4 col1\" >22.629310</td>\n",
       "            </tr>\n",
       "            <tr>\n",
       "                                <td id=\"T_f720c119_48b4_11ec_95c6_988389c6842frow5_col0\" class=\"data row5 col0\" >5</td>\n",
       "                        <td id=\"T_f720c119_48b4_11ec_95c6_988389c6842frow5_col1\" class=\"data row5 col1\" >33.522727</td>\n",
       "            </tr>\n",
       "            <tr>\n",
       "                                <td id=\"T_f720c119_48b4_11ec_95c6_988389c6842frow6_col0\" class=\"data row6 col0\" >6</td>\n",
       "                        <td id=\"T_f720c119_48b4_11ec_95c6_988389c6842frow6_col1\" class=\"data row6 col1\" >100.000000</td>\n",
       "            </tr>\n",
       "    </tbody></table>"
      ],
      "text/plain": [
       "<pandas.io.formats.style.Styler at 0x228cce1d7f0>"
      ]
     },
     "execution_count": 48,
     "metadata": {},
     "output_type": "execute_result"
    }
   ],
   "source": [
    "df_ctc_inside = (df_ctc_atr/df_ctc * 100).reset_index()\n",
    "df_ctc_inside.rename(columns = {'index':'Nº de Contatos','Contacts_Count_12_mon':'Taxa de desistência (%)'}, inplace = True)\n",
    "df_ctc_inside.style.hide_index()"
   ]
  },
  {
   "cell_type": "markdown",
   "metadata": {
    "heading_collapsed": true,
    "hidden": true,
    "id": "d1ddac6e"
   },
   "source": [
    "### Limite de crédito (*Credit_Limit*)"
   ]
  },
  {
   "cell_type": "code",
   "execution_count": 49,
   "metadata": {
    "hidden": true,
    "id": "a63b68b6",
    "outputId": "6ca35d4d-2bc1-41b2-e9f6-a2dc7be92dba"
   },
   "outputs": [],
   "source": [
    "df_credit = pd.DataFrame(df['Credit_Limit'].copy())\n",
    "df_credit['Faixas'] = pd.cut(df_credit['Credit_Limit'], 6)\n",
    "df_credit = df_credit.drop(columns=\"Credit_Limit\")"
   ]
  },
  {
   "cell_type": "code",
   "execution_count": 50,
   "metadata": {
    "hidden": true,
    "id": "b7ce7978",
    "outputId": "5116bcd3-b016-4add-dfd9-bdbde558a0a0"
   },
   "outputs": [
    {
     "data": {
      "image/png": "[encoded data removed]",
      "text/plain": [
       "<Figure size 1080x360 with 1 Axes>"
      ]
     },
     "metadata": {
      "needs_background": "light"
     },
     "output_type": "display_data"
    }
   ],
   "source": [
    "df_credit_tot = pd.DataFrame(df_credit['Faixas'].value_counts(dropna=False))\n",
    "df_credit_atr = pd.DataFrame(df_credit[df['Attrition_Flag'] == 'Attrited Customer']['Faixas'].value_counts(dropna=False))\n",
    "df_credit_concat = pd.concat([df_credit_tot, df_credit_atr], keys = [\"Total\",\"Desistentes\"])\n",
    "df_credit_concat.reset_index(inplace = True)\n",
    "df_credit_concat.rename({\"level_1\":\"Faixas\",\"level_0\":\"Status do cliente\",\"Faixas\":\"Quantidade\"}, axis = 1, inplace = True)\n",
    "df_credit_concat.pivot(\"Faixas\",\"Status do cliente\",\"Quantidade\").plot(y=[\"Total\",\"Desistentes\"], kind = 'bar',figsize = (15,5))\n",
    "plt.xlabel('Faixas de limite de crédito ($)', labelpad=10)\n",
    "plt.ylabel('Nº de clientes', labelpad=10)\n",
    "plt.xticks(rotation = 0);"
   ]
  },
  {
   "cell_type": "markdown",
   "metadata": {
    "heading_collapsed": true,
    "hidden": true,
    "id": "b714e3ea"
   },
   "source": [
    "### Média de utilização do cartão por cliente (*Avg_Utilization_Ratio*)"
   ]
  },
  {
   "cell_type": "code",
   "execution_count": 51,
   "metadata": {
    "hidden": true,
    "id": "60e3cafd",
    "outputId": "30e86745-77bb-47fa-f0d9-409834113826"
   },
   "outputs": [],
   "source": [
    "df_utz = pd.DataFrame(df[['Attrition_Flag',\"Avg_Utilization_Ratio\"]].copy())\n",
    "\n",
    "uso = [\"0 - 10\",\"11 - 20\", \"21 - 30\", \"31 - 40\", \"41 - 50\", \"51 - 60\", \"61 - 70\", \"71 - 80\", \"81 - 90\", \"91 - 100\"]\n",
    "\n",
    "df_utz.loc[(df_utz['Avg_Utilization_Ratio']<=0.1),'uso']=uso[0]\n",
    "df_utz.loc[(df_utz['Avg_Utilization_Ratio']>0.1) & (df_utz['Avg_Utilization_Ratio']<=0.2),'uso'] = uso[1]\n",
    "df_utz.loc[(df_utz['Avg_Utilization_Ratio']>0.2) & (df_utz['Avg_Utilization_Ratio']<=0.3),'uso'] = uso[2]\n",
    "df_utz.loc[(df_utz['Avg_Utilization_Ratio']>0.3) & (df_utz['Avg_Utilization_Ratio']<=0.4),'uso'] = uso[3]\n",
    "df_utz.loc[(df_utz['Avg_Utilization_Ratio']>0.4) & (df_utz['Avg_Utilization_Ratio']<=0.5),'uso'] = uso[4]\n",
    "df_utz.loc[(df_utz['Avg_Utilization_Ratio']>0.5) & (df_utz['Avg_Utilization_Ratio']<=0.6),'uso'] = uso[5]\n",
    "df_utz.loc[(df_utz['Avg_Utilization_Ratio']>0.6) & (df_utz['Avg_Utilization_Ratio']<=0.7),'uso'] = uso[6]\n",
    "df_utz.loc[(df_utz['Avg_Utilization_Ratio']>0.7) & (df_utz['Avg_Utilization_Ratio']<=0.8),'uso'] = uso[7]\n",
    "df_utz.loc[(df_utz['Avg_Utilization_Ratio']>0.8) & (df_utz['Avg_Utilization_Ratio']<=0.9),'uso'] = uso[8]\n",
    "df_utz.loc[(df_utz['Avg_Utilization_Ratio']>0.9),'uso'] = uso[9]"
   ]
  },
  {
   "cell_type": "code",
   "execution_count": 52,
   "metadata": {
    "hidden": true
   },
   "outputs": [
    {
     "data": {
      "text/html": [
       "<div>\n",
       "<style scoped>\n",
       "    .dataframe tbody tr th:only-of-type {\n",
       "        vertical-align: middle;\n",
       "    }\n",
       "\n",
       "    .dataframe tbody tr th {\n",
       "        vertical-align: top;\n",
       "    }\n",
       "\n",
       "    .dataframe thead th {\n",
       "        text-align: right;\n",
       "    }\n",
       "</style>\n",
       "<table border=\"1\" class=\"dataframe\">\n",
       "  <thead>\n",
       "    <tr style=\"text-align: right;\">\n",
       "      <th></th>\n",
       "      <th>Attrition_Flag</th>\n",
       "      <th>Avg_Utilization_Ratio</th>\n",
       "      <th>uso</th>\n",
       "    </tr>\n",
       "  </thead>\n",
       "  <tbody>\n",
       "    <tr>\n",
       "      <th>0</th>\n",
       "      <td>Existing Customer</td>\n",
       "      <td>0.061</td>\n",
       "      <td>0 - 10</td>\n",
       "    </tr>\n",
       "    <tr>\n",
       "      <th>1</th>\n",
       "      <td>Existing Customer</td>\n",
       "      <td>0.105</td>\n",
       "      <td>11 - 20</td>\n",
       "    </tr>\n",
       "    <tr>\n",
       "      <th>2</th>\n",
       "      <td>Existing Customer</td>\n",
       "      <td>0.000</td>\n",
       "      <td>0 - 10</td>\n",
       "    </tr>\n",
       "    <tr>\n",
       "      <th>3</th>\n",
       "      <td>Existing Customer</td>\n",
       "      <td>0.760</td>\n",
       "      <td>71 - 80</td>\n",
       "    </tr>\n",
       "    <tr>\n",
       "      <th>4</th>\n",
       "      <td>Existing Customer</td>\n",
       "      <td>0.000</td>\n",
       "      <td>0 - 10</td>\n",
       "    </tr>\n",
       "  </tbody>\n",
       "</table>\n",
       "</div>"
      ],
      "text/plain": [
       "      Attrition_Flag  Avg_Utilization_Ratio      uso\n",
       "0  Existing Customer                  0.061   0 - 10\n",
       "1  Existing Customer                  0.105  11 - 20\n",
       "2  Existing Customer                  0.000   0 - 10\n",
       "3  Existing Customer                  0.760  71 - 80\n",
       "4  Existing Customer                  0.000   0 - 10"
      ]
     },
     "execution_count": 52,
     "metadata": {},
     "output_type": "execute_result"
    }
   ],
   "source": [
    "df_utz.head()"
   ]
  },
  {
   "cell_type": "code",
   "execution_count": 53,
   "metadata": {
    "hidden": true
   },
   "outputs": [
    {
     "data": {
      "image/png": "[encoded data removed]",
      "text/plain": [
       "<Figure size 1080x360 with 1 Axes>"
      ]
     },
     "metadata": {
      "needs_background": "light"
     },
     "output_type": "display_data"
    }
   ],
   "source": [
    "df_utz_tot = pd.DataFrame(df_utz['uso'].value_counts(dropna = False))\n",
    "df_utz_atr = pd.DataFrame(df_utz[df['Attrition_Flag'] == 'Attrited Customer']['uso'].value_counts(dropna = False))\n",
    "df_utz_concat = pd.concat([df_utz_tot, df_utz_atr], keys = [\"Total\", \"Desistentes\"])\n",
    "df_utz_concat.reset_index(inplace = True)\n",
    "df_utz_concat.rename(columns = {\"level_0\":\"Status do cliente\",\"level_1\":\"% de uso do cartão\",\"uso\":\"Quantidade\"}, inplace = True)\n",
    "df_utz_concat.pivot(\"% de uso do cartão\",\"Status do cliente\",\"Quantidade\").plot(y = [\"Total\",\"Desistentes\"], kind = 'bar',figsize = (15,5))\n",
    "plt.xlabel('Taxa de uso do cartão (%)', labelpad=10)\n",
    "plt.ylabel('Nº de clientes', labelpad=10)\n",
    "plt.xticks(rotation = 0);"
   ]
  },
  {
   "cell_type": "markdown",
   "metadata": {
    "hidden": true,
    "id": "17c2f963"
   },
   "source": [
    "Vemos que as maiores taxas de desistência dos clientes estão nos grupos daqueles que usam entre 0 e 10% do limite de crédito e daqueles que usam mais de 90% do limite do cartão:"
   ]
  },
  {
   "cell_type": "code",
   "execution_count": 54,
   "metadata": {
    "hidden": true,
    "id": "a217a391",
    "outputId": "960b4b73-41f6-42af-eb1b-efcd07e5abe5"
   },
   "outputs": [
    {
     "data": {
      "text/html": [
       "<style  type=\"text/css\" >\n",
       "</style><table id=\"T_092757c8_48b5_11ec_a5cf_988389c6842f\" ><thead>    <tr>        <th class=\"col_heading level0 col0\" >Taxa de uso do cartão (%)</th>        <th class=\"col_heading level0 col1\" >Taxa de desistência (%)</th>    </tr></thead><tbody>\n",
       "                <tr>\n",
       "                                <td id=\"T_092757c8_48b5_11ec_a5cf_988389c6842frow0_col0\" class=\"data row0 col0\" >0 - 10</td>\n",
       "                        <td id=\"T_092757c8_48b5_11ec_a5cf_988389c6842frow0_col1\" class=\"data row0 col1\" >26.375524</td>\n",
       "            </tr>\n",
       "            <tr>\n",
       "                                <td id=\"T_092757c8_48b5_11ec_a5cf_988389c6842frow1_col0\" class=\"data row1 col0\" >11 - 20</td>\n",
       "                        <td id=\"T_092757c8_48b5_11ec_a5cf_988389c6842frow1_col1\" class=\"data row1 col1\" >9.358082</td>\n",
       "            </tr>\n",
       "            <tr>\n",
       "                                <td id=\"T_092757c8_48b5_11ec_a5cf_988389c6842frow2_col0\" class=\"data row2 col0\" >21 - 30</td>\n",
       "                        <td id=\"T_092757c8_48b5_11ec_a5cf_988389c6842frow2_col1\" class=\"data row2 col1\" >9.702315</td>\n",
       "            </tr>\n",
       "            <tr>\n",
       "                                <td id=\"T_092757c8_48b5_11ec_a5cf_988389c6842frow3_col0\" class=\"data row3 col0\" >31 - 40</td>\n",
       "                        <td id=\"T_092757c8_48b5_11ec_a5cf_988389c6842frow3_col1\" class=\"data row3 col1\" >10.638298</td>\n",
       "            </tr>\n",
       "            <tr>\n",
       "                                <td id=\"T_092757c8_48b5_11ec_a5cf_988389c6842frow4_col0\" class=\"data row4 col0\" >41 - 50</td>\n",
       "                        <td id=\"T_092757c8_48b5_11ec_a5cf_988389c6842frow4_col1\" class=\"data row4 col1\" >7.600596</td>\n",
       "            </tr>\n",
       "            <tr>\n",
       "                                <td id=\"T_092757c8_48b5_11ec_a5cf_988389c6842frow5_col0\" class=\"data row5 col0\" >51 - 60</td>\n",
       "                        <td id=\"T_092757c8_48b5_11ec_a5cf_988389c6842frow5_col1\" class=\"data row5 col1\" >6.325707</td>\n",
       "            </tr>\n",
       "            <tr>\n",
       "                                <td id=\"T_092757c8_48b5_11ec_a5cf_988389c6842frow6_col0\" class=\"data row6 col0\" >61 - 70</td>\n",
       "                        <td id=\"T_092757c8_48b5_11ec_a5cf_988389c6842frow6_col1\" class=\"data row6 col1\" >5.921938</td>\n",
       "            </tr>\n",
       "            <tr>\n",
       "                                <td id=\"T_092757c8_48b5_11ec_a5cf_988389c6842frow7_col0\" class=\"data row7 col0\" >71 - 80</td>\n",
       "                        <td id=\"T_092757c8_48b5_11ec_a5cf_988389c6842frow7_col1\" class=\"data row7 col1\" >7.094595</td>\n",
       "            </tr>\n",
       "            <tr>\n",
       "                                <td id=\"T_092757c8_48b5_11ec_a5cf_988389c6842frow8_col0\" class=\"data row8 col0\" >81 - 90</td>\n",
       "                        <td id=\"T_092757c8_48b5_11ec_a5cf_988389c6842frow8_col1\" class=\"data row8 col1\" >19.943820</td>\n",
       "            </tr>\n",
       "            <tr>\n",
       "                                <td id=\"T_092757c8_48b5_11ec_a5cf_988389c6842frow9_col0\" class=\"data row9 col0\" >91 - 100</td>\n",
       "                        <td id=\"T_092757c8_48b5_11ec_a5cf_988389c6842frow9_col1\" class=\"data row9 col1\" >21.621622</td>\n",
       "            </tr>\n",
       "    </tbody></table>"
      ],
      "text/plain": [
       "<pandas.io.formats.style.Styler at 0x228ccd959a0>"
      ]
     },
     "execution_count": 54,
     "metadata": {},
     "output_type": "execute_result"
    }
   ],
   "source": [
    "df_utz_inside = (df_utz_atr/df_utz_tot * 100).reset_index()\n",
    "df_utz_inside.rename(columns = {'index':'Taxa de uso do cartão (%)','uso':'Taxa de desistência (%)'}, inplace = True)\n",
    "df_utz_inside.style.hide_index()"
   ]
  },
  {
   "cell_type": "markdown",
   "metadata": {
    "hidden": true
   },
   "source": [
    "Algumas inferências a respeito desta observação:\n",
    "- Os clientes que utilizam pouco do limite do cartão (0 - 10%) não desejam continuar pagando anuidade ou outras taxas e por isso realizam o cancelamento;\n",
    "- Os clientes que utilizam muito do limite do cartão (91 - 100%) por questões de endividamento, optam pelo cancelamento do cartão."
   ]
  },
  {
   "cell_type": "markdown",
   "metadata": {
    "heading_collapsed": true,
    "hidden": true,
    "id": "61171791"
   },
   "source": [
    "### Relação entre a quantidade gasta no 4º semestre e no 1º semestre por cada cliente (*Total_Amt_Chng_Q4_Q1*)"
   ]
  },
  {
   "cell_type": "code",
   "execution_count": 55,
   "metadata": {
    "hidden": true,
    "id": "a0f8627e",
    "scrolled": true
   },
   "outputs": [],
   "source": [
    "df_q4q1 = pd.DataFrame(df['Total_Amt_Chng_Q4_Q1'].copy())\n",
    "df_q4q1.loc[df_q4q1['Total_Amt_Chng_Q4_Q1'] > 1, 'classe'] = 'Aumentou gasto'\n",
    "df_q4q1.loc[df_q4q1['Total_Amt_Chng_Q4_Q1'] == 1, 'classe'] = 'Manteve gasto'\n",
    "df_q4q1.loc[df_q4q1['Total_Amt_Chng_Q4_Q1'] < 1, 'classe'] = 'Diminuiu gasto'"
   ]
  },
  {
   "cell_type": "code",
   "execution_count": 56,
   "metadata": {
    "hidden": true,
    "id": "0d93ae98",
    "outputId": "7495c8ac-3041-402d-afd8-0d63098f2d9d"
   },
   "outputs": [
    {
     "data": {
      "image/png": "[encoded data removed]",
      "text/plain": [
       "<Figure size 432x288 with 1 Axes>"
      ]
     },
     "metadata": {
      "needs_background": "light"
     },
     "output_type": "display_data"
    }
   ],
   "source": [
    "df_q4q1_tot = pd.DataFrame(df_q4q1['classe'].value_counts(dropna = False))\n",
    "df_q4q1_atr = pd.DataFrame(df_q4q1[df['Attrition_Flag'] == 'Attrited Customer']['classe'].value_counts(dropna=False))\n",
    "df_q4q1_concat = pd.concat([df_q4q1_tot, df_q4q1_atr], keys = ['Total', 'Desistentes'])\n",
    "df_q4q1_concat.reset_index(inplace = True)\n",
    "df_q4q1_concat.rename({\"level_0\":\"Status do cliente\", \"level_1\":\"Comportamento\", \"classe\":\"Quantidade\"}, axis = 1, inplace = True)\n",
    "df_q4q1_concat.pivot(\"Comportamento\",\"Status do cliente\",\"Quantidade\").plot(y = [\"Total\", \"Desistentes\"], kind = \"bar\")\n",
    "plt.ylabel('Nº de clientes', labelpad = 10)\n",
    "plt.xlabel('Comportamento',labelpad= 10)\n",
    "plt.xticks(rotation = 0);"
   ]
  },
  {
   "cell_type": "markdown",
   "metadata": {
    "hidden": true
   },
   "source": [
    "Visualizando um pouco mais de perto tais relações:"
   ]
  },
  {
   "cell_type": "code",
   "execution_count": 57,
   "metadata": {
    "hidden": true,
    "id": "24560a69",
    "outputId": "a93f6768-a65a-46c0-c3fd-b2b3367b005a",
    "scrolled": false
   },
   "outputs": [
    {
     "data": {
      "text/html": [
       "<div>\n",
       "<style scoped>\n",
       "    .dataframe tbody tr th:only-of-type {\n",
       "        vertical-align: middle;\n",
       "    }\n",
       "\n",
       "    .dataframe tbody tr th {\n",
       "        vertical-align: top;\n",
       "    }\n",
       "\n",
       "    .dataframe thead th {\n",
       "        text-align: right;\n",
       "    }\n",
       "</style>\n",
       "<table border=\"1\" class=\"dataframe\">\n",
       "  <thead>\n",
       "    <tr style=\"text-align: right;\">\n",
       "      <th></th>\n",
       "      <th>Status do cliente</th>\n",
       "      <th>Comportamento</th>\n",
       "      <th>Quantidade</th>\n",
       "    </tr>\n",
       "  </thead>\n",
       "  <tbody>\n",
       "    <tr>\n",
       "      <th>0</th>\n",
       "      <td>Total</td>\n",
       "      <td>Diminuiu gasto</td>\n",
       "      <td>9127</td>\n",
       "    </tr>\n",
       "    <tr>\n",
       "      <th>1</th>\n",
       "      <td>Total</td>\n",
       "      <td>Aumentou gasto</td>\n",
       "      <td>993</td>\n",
       "    </tr>\n",
       "    <tr>\n",
       "      <th>2</th>\n",
       "      <td>Total</td>\n",
       "      <td>Manteve gasto</td>\n",
       "      <td>7</td>\n",
       "    </tr>\n",
       "    <tr>\n",
       "      <th>3</th>\n",
       "      <td>Desistentes</td>\n",
       "      <td>Diminuiu gasto</td>\n",
       "      <td>1485</td>\n",
       "    </tr>\n",
       "    <tr>\n",
       "      <th>4</th>\n",
       "      <td>Desistentes</td>\n",
       "      <td>Aumentou gasto</td>\n",
       "      <td>142</td>\n",
       "    </tr>\n",
       "  </tbody>\n",
       "</table>\n",
       "</div>"
      ],
      "text/plain": [
       "  Status do cliente   Comportamento  Quantidade\n",
       "0             Total  Diminuiu gasto        9127\n",
       "1             Total  Aumentou gasto         993\n",
       "2             Total   Manteve gasto           7\n",
       "3       Desistentes  Diminuiu gasto        1485\n",
       "4       Desistentes  Aumentou gasto         142"
      ]
     },
     "execution_count": 57,
     "metadata": {},
     "output_type": "execute_result"
    }
   ],
   "source": [
    "df_q4q1_concat"
   ]
  },
  {
   "cell_type": "markdown",
   "metadata": {
    "hidden": true
   },
   "source": [
    "**Até aqui, podemos inferir que os clientes desistentes possuem o seguinte perfil:**\n",
    "\n",
    "                         ---- preencher com as características nos pontinhos depois ----\n",
    "- A \n",
    "- B\n",
    "- C"
   ]
  },
  {
   "cell_type": "markdown",
   "metadata": {
    "id": "fe3785cd"
   },
   "source": [
    "# Análises estatísticas"
   ]
  },
  {
   "cell_type": "code",
   "execution_count": 58,
   "metadata": {
    "id": "38911542",
    "outputId": "9f525844-8fca-4bdb-949d-5a71a7366dfa",
    "scrolled": true
   },
   "outputs": [
    {
     "data": {
      "text/html": [
       "<div>\n",
       "<style scoped>\n",
       "    .dataframe tbody tr th:only-of-type {\n",
       "        vertical-align: middle;\n",
       "    }\n",
       "\n",
       "    .dataframe tbody tr th {\n",
       "        vertical-align: top;\n",
       "    }\n",
       "\n",
       "    .dataframe thead th {\n",
       "        text-align: right;\n",
       "    }\n",
       "</style>\n",
       "<table border=\"1\" class=\"dataframe\">\n",
       "  <thead>\n",
       "    <tr style=\"text-align: right;\">\n",
       "      <th></th>\n",
       "      <th>CLIENTNUM</th>\n",
       "      <th>Customer_Age</th>\n",
       "      <th>Dependent_count</th>\n",
       "      <th>Months_on_book</th>\n",
       "      <th>Total_Relationship_Count</th>\n",
       "      <th>Months_Inactive_12_mon</th>\n",
       "      <th>Contacts_Count_12_mon</th>\n",
       "      <th>Credit_Limit</th>\n",
       "      <th>Total_Revolving_Bal</th>\n",
       "      <th>Avg_Open_To_Buy</th>\n",
       "      <th>Total_Amt_Chng_Q4_Q1</th>\n",
       "      <th>Total_Trans_Amt</th>\n",
       "      <th>Total_Trans_Ct</th>\n",
       "      <th>Total_Ct_Chng_Q4_Q1</th>\n",
       "      <th>Avg_Utilization_Ratio</th>\n",
       "    </tr>\n",
       "  </thead>\n",
       "  <tbody>\n",
       "    <tr>\n",
       "      <th>count</th>\n",
       "      <td>1.012700e+04</td>\n",
       "      <td>10127.000000</td>\n",
       "      <td>10127.000000</td>\n",
       "      <td>10127.000000</td>\n",
       "      <td>10127.000000</td>\n",
       "      <td>10127.000000</td>\n",
       "      <td>10127.000000</td>\n",
       "      <td>10127.000000</td>\n",
       "      <td>10127.000000</td>\n",
       "      <td>10127.000000</td>\n",
       "      <td>10127.000000</td>\n",
       "      <td>10127.000000</td>\n",
       "      <td>10127.000000</td>\n",
       "      <td>10127.000000</td>\n",
       "      <td>10127.000000</td>\n",
       "    </tr>\n",
       "    <tr>\n",
       "      <th>mean</th>\n",
       "      <td>7.391776e+08</td>\n",
       "      <td>46.325960</td>\n",
       "      <td>2.346203</td>\n",
       "      <td>35.928409</td>\n",
       "      <td>3.812580</td>\n",
       "      <td>2.341167</td>\n",
       "      <td>2.455317</td>\n",
       "      <td>8631.953698</td>\n",
       "      <td>1162.814061</td>\n",
       "      <td>7469.139637</td>\n",
       "      <td>0.759941</td>\n",
       "      <td>4404.086304</td>\n",
       "      <td>64.858695</td>\n",
       "      <td>0.712222</td>\n",
       "      <td>0.274894</td>\n",
       "    </tr>\n",
       "    <tr>\n",
       "      <th>std</th>\n",
       "      <td>3.690378e+07</td>\n",
       "      <td>8.016814</td>\n",
       "      <td>1.298908</td>\n",
       "      <td>7.986416</td>\n",
       "      <td>1.554408</td>\n",
       "      <td>1.010622</td>\n",
       "      <td>1.106225</td>\n",
       "      <td>9088.776650</td>\n",
       "      <td>814.987335</td>\n",
       "      <td>9090.685324</td>\n",
       "      <td>0.219207</td>\n",
       "      <td>3397.129254</td>\n",
       "      <td>23.472570</td>\n",
       "      <td>0.238086</td>\n",
       "      <td>0.275691</td>\n",
       "    </tr>\n",
       "    <tr>\n",
       "      <th>min</th>\n",
       "      <td>7.080821e+08</td>\n",
       "      <td>26.000000</td>\n",
       "      <td>0.000000</td>\n",
       "      <td>13.000000</td>\n",
       "      <td>1.000000</td>\n",
       "      <td>0.000000</td>\n",
       "      <td>0.000000</td>\n",
       "      <td>1438.300000</td>\n",
       "      <td>0.000000</td>\n",
       "      <td>3.000000</td>\n",
       "      <td>0.000000</td>\n",
       "      <td>510.000000</td>\n",
       "      <td>10.000000</td>\n",
       "      <td>0.000000</td>\n",
       "      <td>0.000000</td>\n",
       "    </tr>\n",
       "    <tr>\n",
       "      <th>25%</th>\n",
       "      <td>7.130368e+08</td>\n",
       "      <td>41.000000</td>\n",
       "      <td>1.000000</td>\n",
       "      <td>31.000000</td>\n",
       "      <td>3.000000</td>\n",
       "      <td>2.000000</td>\n",
       "      <td>2.000000</td>\n",
       "      <td>2555.000000</td>\n",
       "      <td>359.000000</td>\n",
       "      <td>1324.500000</td>\n",
       "      <td>0.631000</td>\n",
       "      <td>2155.500000</td>\n",
       "      <td>45.000000</td>\n",
       "      <td>0.582000</td>\n",
       "      <td>0.023000</td>\n",
       "    </tr>\n",
       "    <tr>\n",
       "      <th>50%</th>\n",
       "      <td>7.179264e+08</td>\n",
       "      <td>46.000000</td>\n",
       "      <td>2.000000</td>\n",
       "      <td>36.000000</td>\n",
       "      <td>4.000000</td>\n",
       "      <td>2.000000</td>\n",
       "      <td>2.000000</td>\n",
       "      <td>4549.000000</td>\n",
       "      <td>1276.000000</td>\n",
       "      <td>3474.000000</td>\n",
       "      <td>0.736000</td>\n",
       "      <td>3899.000000</td>\n",
       "      <td>67.000000</td>\n",
       "      <td>0.702000</td>\n",
       "      <td>0.176000</td>\n",
       "    </tr>\n",
       "    <tr>\n",
       "      <th>75%</th>\n",
       "      <td>7.731435e+08</td>\n",
       "      <td>52.000000</td>\n",
       "      <td>3.000000</td>\n",
       "      <td>40.000000</td>\n",
       "      <td>5.000000</td>\n",
       "      <td>3.000000</td>\n",
       "      <td>3.000000</td>\n",
       "      <td>11067.500000</td>\n",
       "      <td>1784.000000</td>\n",
       "      <td>9859.000000</td>\n",
       "      <td>0.859000</td>\n",
       "      <td>4741.000000</td>\n",
       "      <td>81.000000</td>\n",
       "      <td>0.818000</td>\n",
       "      <td>0.503000</td>\n",
       "    </tr>\n",
       "    <tr>\n",
       "      <th>max</th>\n",
       "      <td>8.283431e+08</td>\n",
       "      <td>73.000000</td>\n",
       "      <td>5.000000</td>\n",
       "      <td>56.000000</td>\n",
       "      <td>6.000000</td>\n",
       "      <td>6.000000</td>\n",
       "      <td>6.000000</td>\n",
       "      <td>34516.000000</td>\n",
       "      <td>2517.000000</td>\n",
       "      <td>34516.000000</td>\n",
       "      <td>3.397000</td>\n",
       "      <td>18484.000000</td>\n",
       "      <td>139.000000</td>\n",
       "      <td>3.714000</td>\n",
       "      <td>0.999000</td>\n",
       "    </tr>\n",
       "  </tbody>\n",
       "</table>\n",
       "</div>"
      ],
      "text/plain": [
       "          CLIENTNUM  Customer_Age  Dependent_count  Months_on_book  \\\n",
       "count  1.012700e+04  10127.000000     10127.000000    10127.000000   \n",
       "mean   7.391776e+08     46.325960         2.346203       35.928409   \n",
       "std    3.690378e+07      8.016814         1.298908        7.986416   \n",
       "min    7.080821e+08     26.000000         0.000000       13.000000   \n",
       "25%    7.130368e+08     41.000000         1.000000       31.000000   \n",
       "50%    7.179264e+08     46.000000         2.000000       36.000000   \n",
       "75%    7.731435e+08     52.000000         3.000000       40.000000   \n",
       "max    8.283431e+08     73.000000         5.000000       56.000000   \n",
       "\n",
       "       Total_Relationship_Count  Months_Inactive_12_mon  \\\n",
       "count              10127.000000            10127.000000   \n",
       "mean                   3.812580                2.341167   \n",
       "std                    1.554408                1.010622   \n",
       "min                    1.000000                0.000000   \n",
       "25%                    3.000000                2.000000   \n",
       "50%                    4.000000                2.000000   \n",
       "75%                    5.000000                3.000000   \n",
       "max                    6.000000                6.000000   \n",
       "\n",
       "       Contacts_Count_12_mon  Credit_Limit  Total_Revolving_Bal  \\\n",
       "count           10127.000000  10127.000000         10127.000000   \n",
       "mean                2.455317   8631.953698          1162.814061   \n",
       "std                 1.106225   9088.776650           814.987335   \n",
       "min                 0.000000   1438.300000             0.000000   \n",
       "25%                 2.000000   2555.000000           359.000000   \n",
       "50%                 2.000000   4549.000000          1276.000000   \n",
       "75%                 3.000000  11067.500000          1784.000000   \n",
       "max                 6.000000  34516.000000          2517.000000   \n",
       "\n",
       "       Avg_Open_To_Buy  Total_Amt_Chng_Q4_Q1  Total_Trans_Amt  Total_Trans_Ct  \\\n",
       "count     10127.000000          10127.000000     10127.000000    10127.000000   \n",
       "mean       7469.139637              0.759941      4404.086304       64.858695   \n",
       "std        9090.685324              0.219207      3397.129254       23.472570   \n",
       "min           3.000000              0.000000       510.000000       10.000000   \n",
       "25%        1324.500000              0.631000      2155.500000       45.000000   \n",
       "50%        3474.000000              0.736000      3899.000000       67.000000   \n",
       "75%        9859.000000              0.859000      4741.000000       81.000000   \n",
       "max       34516.000000              3.397000     18484.000000      139.000000   \n",
       "\n",
       "       Total_Ct_Chng_Q4_Q1  Avg_Utilization_Ratio  \n",
       "count         10127.000000           10127.000000  \n",
       "mean              0.712222               0.274894  \n",
       "std               0.238086               0.275691  \n",
       "min               0.000000               0.000000  \n",
       "25%               0.582000               0.023000  \n",
       "50%               0.702000               0.176000  \n",
       "75%               0.818000               0.503000  \n",
       "max               3.714000               0.999000  "
      ]
     },
     "execution_count": 58,
     "metadata": {},
     "output_type": "execute_result"
    }
   ],
   "source": [
    "df.describe()"
   ]
  },
  {
   "cell_type": "markdown",
   "metadata": {},
   "source": [
    "Com o objetivo de entendermos melhor quais variáveis estão fortemente correlacionadas entre si não só para a base de dados como um todo, mas também para os clientes desistentes, montamos um dataframe à parte:"
   ]
  },
  {
   "cell_type": "code",
   "execution_count": 59,
   "metadata": {},
   "outputs": [],
   "source": [
    "df_atr = df[df['Attrition_Flag'] == 'Attrited Customer']"
   ]
  },
  {
   "cell_type": "code",
   "execution_count": 60,
   "metadata": {},
   "outputs": [
    {
     "data": {
      "text/html": [
       "<div>\n",
       "<style scoped>\n",
       "    .dataframe tbody tr th:only-of-type {\n",
       "        vertical-align: middle;\n",
       "    }\n",
       "\n",
       "    .dataframe tbody tr th {\n",
       "        vertical-align: top;\n",
       "    }\n",
       "\n",
       "    .dataframe thead th {\n",
       "        text-align: right;\n",
       "    }\n",
       "</style>\n",
       "<table border=\"1\" class=\"dataframe\">\n",
       "  <thead>\n",
       "    <tr style=\"text-align: right;\">\n",
       "      <th></th>\n",
       "      <th>CLIENTNUM</th>\n",
       "      <th>Attrition_Flag</th>\n",
       "      <th>Customer_Age</th>\n",
       "      <th>Gender</th>\n",
       "      <th>Dependent_count</th>\n",
       "      <th>Education_Level</th>\n",
       "      <th>Marital_Status</th>\n",
       "      <th>Income_Category</th>\n",
       "      <th>Card_Category</th>\n",
       "      <th>Months_on_book</th>\n",
       "      <th>...</th>\n",
       "      <th>Months_Inactive_12_mon</th>\n",
       "      <th>Contacts_Count_12_mon</th>\n",
       "      <th>Credit_Limit</th>\n",
       "      <th>Total_Revolving_Bal</th>\n",
       "      <th>Avg_Open_To_Buy</th>\n",
       "      <th>Total_Amt_Chng_Q4_Q1</th>\n",
       "      <th>Total_Trans_Amt</th>\n",
       "      <th>Total_Trans_Ct</th>\n",
       "      <th>Total_Ct_Chng_Q4_Q1</th>\n",
       "      <th>Avg_Utilization_Ratio</th>\n",
       "    </tr>\n",
       "  </thead>\n",
       "  <tbody>\n",
       "    <tr>\n",
       "      <th>21</th>\n",
       "      <td>708508758</td>\n",
       "      <td>Attrited Customer</td>\n",
       "      <td>62</td>\n",
       "      <td>F</td>\n",
       "      <td>0</td>\n",
       "      <td>Graduate</td>\n",
       "      <td>Married</td>\n",
       "      <td>Less than $40K</td>\n",
       "      <td>Blue</td>\n",
       "      <td>49</td>\n",
       "      <td>...</td>\n",
       "      <td>3</td>\n",
       "      <td>3</td>\n",
       "      <td>1438.3</td>\n",
       "      <td>0</td>\n",
       "      <td>1438.3</td>\n",
       "      <td>1.047</td>\n",
       "      <td>692</td>\n",
       "      <td>16</td>\n",
       "      <td>0.600</td>\n",
       "      <td>0.000</td>\n",
       "    </tr>\n",
       "    <tr>\n",
       "      <th>39</th>\n",
       "      <td>708300483</td>\n",
       "      <td>Attrited Customer</td>\n",
       "      <td>66</td>\n",
       "      <td>F</td>\n",
       "      <td>0</td>\n",
       "      <td>Doctorate</td>\n",
       "      <td>Married</td>\n",
       "      <td>Unknown</td>\n",
       "      <td>Blue</td>\n",
       "      <td>56</td>\n",
       "      <td>...</td>\n",
       "      <td>4</td>\n",
       "      <td>3</td>\n",
       "      <td>7882.0</td>\n",
       "      <td>605</td>\n",
       "      <td>7277.0</td>\n",
       "      <td>1.052</td>\n",
       "      <td>704</td>\n",
       "      <td>16</td>\n",
       "      <td>0.143</td>\n",
       "      <td>0.077</td>\n",
       "    </tr>\n",
       "    <tr>\n",
       "      <th>51</th>\n",
       "      <td>779471883</td>\n",
       "      <td>Attrited Customer</td>\n",
       "      <td>54</td>\n",
       "      <td>F</td>\n",
       "      <td>1</td>\n",
       "      <td>Graduate</td>\n",
       "      <td>Married</td>\n",
       "      <td>Less than $40K</td>\n",
       "      <td>Blue</td>\n",
       "      <td>40</td>\n",
       "      <td>...</td>\n",
       "      <td>3</td>\n",
       "      <td>1</td>\n",
       "      <td>1438.3</td>\n",
       "      <td>808</td>\n",
       "      <td>630.3</td>\n",
       "      <td>0.997</td>\n",
       "      <td>705</td>\n",
       "      <td>19</td>\n",
       "      <td>0.900</td>\n",
       "      <td>0.562</td>\n",
       "    </tr>\n",
       "  </tbody>\n",
       "</table>\n",
       "<p>3 rows × 21 columns</p>\n",
       "</div>"
      ],
      "text/plain": [
       "    CLIENTNUM     Attrition_Flag  Customer_Age Gender  Dependent_count  \\\n",
       "21  708508758  Attrited Customer            62      F                0   \n",
       "39  708300483  Attrited Customer            66      F                0   \n",
       "51  779471883  Attrited Customer            54      F                1   \n",
       "\n",
       "   Education_Level Marital_Status Income_Category Card_Category  \\\n",
       "21        Graduate        Married  Less than $40K          Blue   \n",
       "39       Doctorate        Married         Unknown          Blue   \n",
       "51        Graduate        Married  Less than $40K          Blue   \n",
       "\n",
       "    Months_on_book  ...  Months_Inactive_12_mon  Contacts_Count_12_mon  \\\n",
       "21              49  ...                       3                      3   \n",
       "39              56  ...                       4                      3   \n",
       "51              40  ...                       3                      1   \n",
       "\n",
       "    Credit_Limit  Total_Revolving_Bal  Avg_Open_To_Buy  Total_Amt_Chng_Q4_Q1  \\\n",
       "21        1438.3                    0           1438.3                 1.047   \n",
       "39        7882.0                  605           7277.0                 1.052   \n",
       "51        1438.3                  808            630.3                 0.997   \n",
       "\n",
       "    Total_Trans_Amt  Total_Trans_Ct  Total_Ct_Chng_Q4_Q1  \\\n",
       "21              692              16                0.600   \n",
       "39              704              16                0.143   \n",
       "51              705              19                0.900   \n",
       "\n",
       "    Avg_Utilization_Ratio  \n",
       "21                  0.000  \n",
       "39                  0.077  \n",
       "51                  0.562  \n",
       "\n",
       "[3 rows x 21 columns]"
      ]
     },
     "execution_count": 60,
     "metadata": {},
     "output_type": "execute_result"
    }
   ],
   "source": [
    "df_atr.head(3)"
   ]
  },
  {
   "cell_type": "code",
   "execution_count": 61,
   "metadata": {
    "id": "e9f03213",
    "outputId": "7e244760-362a-422e-a587-fdc15997fa24"
   },
   "outputs": [
    {
     "data": {
      "image/png": "[encoded data removed]",
      "text/plain": [
       "<Figure size 2160x720 with 4 Axes>"
      ]
     },
     "metadata": {
      "needs_background": "light"
     },
     "output_type": "display_data"
    }
   ],
   "source": [
    "fig, axes = plt.subplots(1, 2, figsize = (30, 10))\n",
    "sns.heatmap(df.corr(), cmap = 'coolwarm',ax = axes[0]);\n",
    "sns.heatmap(df_atr.corr(), cmap = 'coolwarm', ax = axes[1])\n",
    "axes[0].set_title('Correlações para toda a Base de Dados', fontsize = 30, pad = 20)\n",
    "axes[1].set_title('Correlações para os Clientes Desistentes', fontsize = 30, pad = 20)\n",
    "axes[0].tick_params(labelsize = 22)\n",
    "axes[1].tick_params(labelsize = 22)\n",
    "fig.subplots_adjust(wspace = 0.38);"
   ]
  },
  {
   "cell_type": "markdown",
   "metadata": {},
   "source": [
    "Tanto para toda a base de clientes, quanto para a parte desistente, foi possível observar que a coluna `Avg_Utilization_Ratio` está fortemente correlacionada de forma negativa com as colunas `Credit_Limit` e `Avg_Open_To_Buy`.\n",
    "\n",
    "Tendo em vista que, infelizmente, os *heatmaps* não trouzeram tantas informações, buscamos confeccionar gráficos com base em algumas hipóteses de correlação:"
   ]
  },
  {
   "cell_type": "code",
   "execution_count": null,
   "metadata": {
    "id": "822b98e6"
   },
   "outputs": [],
   "source": [
    "#Podemos utilizar as variáveis categóricas como cores nos gráficos de dispersão\n",
    "categoricas = ['Attrition_Flag','Gender','Education_Level','Marital_Status','Card_Category',\n",
    "               'Income_Category']\n",
    "                 \n",
    "\n",
    "#E criar os gráficos de dispersão correlacionando as variáveis quantitativas\n",
    "quantitativas = ['Customer_Age','Dependent_count','Total_Relationship_Count','Months_on_book',\n",
    "                 'Months_Inactive_12_mon','Contacts_Count_12_mon','Credit_Limit',\n",
    "                 'Total_Revolving_Bal','Avg_Open_To_Buy','Total_Amt_Chng_Q4_Q1',\n",
    "                 'Total_Trans_Amt','Total_Trans_Ct','Total_Ct_Chng_Q4_Q1','Avg_Utilization_Ratio']\n",
    "\n",
    "relacoes = [('Avg_Utilization_Ratio', 'Credit_Limit'), ('Avg_Open_To_Buy', 'Credit_Limit'),\n",
    "           ('Credit_Limit','Card_Category'), ('Months_on_book','Credit_Limit'),\n",
    "           ('Income_Category','Credit_Limit'), ('Income_Category','Education_Level'),\n",
    "           ('Education_Level','Credit_Limit')]"
   ]
  },
  {
   "cell_type": "markdown",
   "metadata": {
    "id": "94837790"
   },
   "source": [
    "![image](https://user-images.githubusercontent.com/92948655/142491917-27daa8a9-3508-45c6-950c-4f56dd76dacf.png)"
   ]
  },
  {
   "cell_type": "markdown",
   "metadata": {
    "heading_collapsed": true
   },
   "source": [
    "### Relação entre taxa de utilização do cartão, limite de crédito e faixa de renda do cliente:"
   ]
  },
  {
   "cell_type": "code",
   "execution_count": 62,
   "metadata": {
    "hidden": true,
    "id": "5f4e37df",
    "outputId": "9ed9034a-7de4-491c-cfe8-a6a43ad49af3",
    "scrolled": false
   },
   "outputs": [
    {
     "data": {
      "image/png": "[encoded data removed]",
      "text/plain": [
       "<Figure size 1080x360 with 1 Axes>"
      ]
     },
     "metadata": {
      "needs_background": "light"
     },
     "output_type": "display_data"
    }
   ],
   "source": [
    "plt.figure(figsize=(15,5))\n",
    "quantitativa_y, quantitativa_x = ('Avg_Utilization_Ratio', 'Credit_Limit') \n",
    "categoria = 'Income_Category'\n",
    "sns.scatterplot(x = quantitativa_x, y = quantitativa_y, data = df_atr, hue = categoria)\n",
    "plt.ylabel(quantitativa_y)\n",
    "plt.xlabel(quantitativa_x);"
   ]
  },
  {
   "cell_type": "markdown",
   "metadata": {
    "hidden": true,
    "id": "f45d9479"
   },
   "source": [
    "**Conclusão:** Dentre os clientes desistentes do serviço de cartão de crédito, aqueles que possuem renda menor que 40 mil dólares tendem a utilizar o cartão com maior rapidez, uma vez que seu limite de crédito é baixo e portanto, facilmente comprometido. \n",
    "\n",
    "**Faixa de renda** e **limite de crédito**, elevam a taxa de utilização do cartão, relacionada ao nível do cancelamento, como vimos durante as análises das colunas."
   ]
  },
  {
   "cell_type": "markdown",
   "metadata": {
    "hidden": true
   },
   "source": [
    "**Pensar melhor sobre a análise a seguir depois:** 🚨"
   ]
  },
  {
   "cell_type": "code",
   "execution_count": 64,
   "metadata": {
    "hidden": true,
    "id": "52b3ea21",
    "outputId": "68b0411e-9f8e-4fe6-e29a-416384a7d22d",
    "scrolled": true
   },
   "outputs": [
    {
     "data": {
      "image/png": "[encoded data removed]",
      "text/plain": [
       "<Figure size 1080x360 with 1 Axes>"
      ]
     },
     "metadata": {
      "needs_background": "light"
     },
     "output_type": "display_data"
    }
   ],
   "source": [
    "plt.figure(figsize=(15,5))\n",
    "quantitativa_y, quantitativa_x = ('Avg_Utilization_Ratio', 'Credit_Limit') \n",
    "categoria = 'Income_Category'\n",
    "sns.scatterplot(x = quantitativa_x, y=quantitativa_y, data = df, hue = 'Attrition_Flag')\n",
    "plt.ylabel(quantitativa_y)\n",
    "plt.xlabel(quantitativa_x);"
   ]
  },
  {
   "cell_type": "markdown",
   "metadata": {
    "hidden": true,
    "id": "d65793db"
   },
   "source": [
    "Observamos que diversos clientes desistentes estão com média de utilização igual a 0. O percentual de clientes desistentes que não estavam utilizando o cartão é de:"
   ]
  },
  {
   "cell_type": "code",
   "execution_count": 65,
   "metadata": {
    "hidden": true,
    "id": "e2a9352f",
    "outputId": "0e069411-f68a-40dc-c1e6-f300165eb277",
    "scrolled": true
   },
   "outputs": [
    {
     "data": {
      "text/plain": [
       "54.88629379225568"
      ]
     },
     "execution_count": 65,
     "metadata": {},
     "output_type": "execute_result"
    }
   ],
   "source": [
    "df_atr[df_atr['Avg_Utilization_Ratio'] == 0].count()[0]/df_atr.count()[0]*100"
   ]
  },
  {
   "cell_type": "markdown",
   "metadata": {
    "heading_collapsed": true,
    "id": "461f7337"
   },
   "source": [
    "### Relação entre desistência do serviço, categoria do cartão e taxa de utilização:"
   ]
  },
  {
   "cell_type": "markdown",
   "metadata": {
    "hidden": true,
    "id": "4622b95c"
   },
   "source": [
    "Avaliamos, **dentre os clientes desistentes**, como é a distribuição de categorias para o cartão de crédito:"
   ]
  },
  {
   "cell_type": "code",
   "execution_count": 102,
   "metadata": {
    "hidden": true,
    "id": "027e6560",
    "outputId": "1fbb3a32-6ad1-4e6c-8b17-d906fc8227a6",
    "scrolled": true
   },
   "outputs": [
    {
     "data": {
      "text/html": [
       "<div>\n",
       "<style scoped>\n",
       "    .dataframe tbody tr th:only-of-type {\n",
       "        vertical-align: middle;\n",
       "    }\n",
       "\n",
       "    .dataframe tbody tr th {\n",
       "        vertical-align: top;\n",
       "    }\n",
       "\n",
       "    .dataframe thead th {\n",
       "        text-align: right;\n",
       "    }\n",
       "</style>\n",
       "<table border=\"1\" class=\"dataframe\">\n",
       "  <thead>\n",
       "    <tr style=\"text-align: right;\">\n",
       "      <th></th>\n",
       "      <th>Nº de clientes</th>\n",
       "    </tr>\n",
       "    <tr>\n",
       "      <th>Categoria do Cartão</th>\n",
       "      <th></th>\n",
       "    </tr>\n",
       "  </thead>\n",
       "  <tbody>\n",
       "    <tr>\n",
       "      <th>Blue</th>\n",
       "      <td>1519.0</td>\n",
       "    </tr>\n",
       "    <tr>\n",
       "      <th>Gold</th>\n",
       "      <td>21.0</td>\n",
       "    </tr>\n",
       "    <tr>\n",
       "      <th>Platinum</th>\n",
       "      <td>5.0</td>\n",
       "    </tr>\n",
       "    <tr>\n",
       "      <th>Silver</th>\n",
       "      <td>82.0</td>\n",
       "    </tr>\n",
       "  </tbody>\n",
       "</table>\n",
       "</div>"
      ],
      "text/plain": [
       "                     Nº de clientes\n",
       "Categoria do Cartão                \n",
       "Blue                         1519.0\n",
       "Gold                           21.0\n",
       "Platinum                        5.0\n",
       "Silver                         82.0"
      ]
     },
     "execution_count": 102,
     "metadata": {},
     "output_type": "execute_result"
    }
   ],
   "source": [
    "df_atr_card = pd.DataFrame(df[df['Attrition_Flag'] == 'Attrited Customer'].groupby('Card_Category')['Credit_Limit'].describe()['count'])\n",
    "df_atr_card.reset_index(inplace = True)\n",
    "df_atr_card.rename(columns = {'Card_Category': 'Categoria do Cartão', 'count': 'Nº de clientes'}, inplace = True)\n",
    "df_atr_card.set_index('Categoria do Cartão', inplace = True)\n",
    "df_atr_card"
   ]
  },
  {
   "cell_type": "markdown",
   "metadata": {
    "hidden": true
   },
   "source": [
    "**Os clientes que mais aderiram ao cancelamento do serviço, possuem cartões da categoria Blue.**\n",
    "\n",
    "Vimos anteriormente que os clientes que possuem taxas de utilização do cartão nos intervalos entre 0 - 10% e 90-100%, possuem forte tendência de cancelamento. Levando em consideração esta observação, vamos analisar a relação, dentre os clientes desistentes, da taxa de uso e categoria do cartão: "
   ]
  },
  {
   "cell_type": "markdown",
   "metadata": {
    "hidden": true,
    "id": "7665b8bf"
   },
   "source": [
    "**Para uma média de utilização menor do que 10%:**"
   ]
  },
  {
   "cell_type": "code",
   "execution_count": 106,
   "metadata": {
    "hidden": true,
    "id": "e8d4d037",
    "outputId": "a2df7779-4229-4921-9d05-7874c4ab0185",
    "scrolled": true
   },
   "outputs": [
    {
     "data": {
      "text/html": [
       "<div>\n",
       "<style scoped>\n",
       "    .dataframe tbody tr th:only-of-type {\n",
       "        vertical-align: middle;\n",
       "    }\n",
       "\n",
       "    .dataframe tbody tr th {\n",
       "        vertical-align: top;\n",
       "    }\n",
       "\n",
       "    .dataframe thead th {\n",
       "        text-align: right;\n",
       "    }\n",
       "</style>\n",
       "<table border=\"1\" class=\"dataframe\">\n",
       "  <thead>\n",
       "    <tr style=\"text-align: right;\">\n",
       "      <th></th>\n",
       "      <th>Nº de clientes</th>\n",
       "    </tr>\n",
       "    <tr>\n",
       "      <th>Categoria do Cartão</th>\n",
       "      <th></th>\n",
       "    </tr>\n",
       "  </thead>\n",
       "  <tbody>\n",
       "    <tr>\n",
       "      <th>Blue</th>\n",
       "      <td>968</td>\n",
       "    </tr>\n",
       "    <tr>\n",
       "      <th>Gold</th>\n",
       "      <td>20</td>\n",
       "    </tr>\n",
       "    <tr>\n",
       "      <th>Platinum</th>\n",
       "      <td>5</td>\n",
       "    </tr>\n",
       "    <tr>\n",
       "      <th>Silver</th>\n",
       "      <td>75</td>\n",
       "    </tr>\n",
       "  </tbody>\n",
       "</table>\n",
       "</div>"
      ],
      "text/plain": [
       "                     Nº de clientes\n",
       "Categoria do Cartão                \n",
       "Blue                            968\n",
       "Gold                             20\n",
       "Platinum                          5\n",
       "Silver                           75"
      ]
     },
     "execution_count": 106,
     "metadata": {},
     "output_type": "execute_result"
    }
   ],
   "source": [
    "df_avg10_card = pd.DataFrame(df_atr[df_atr['Avg_Utilization_Ratio'] < 0.1].groupby('Card_Category')['Avg_Utilization_Ratio'].count())\n",
    "df_avg10_card.reset_index(inplace = True)\n",
    "df_avg10_card.rename(columns = {'Card_Category': 'Categoria do Cartão', 'Avg_Utilization_Ratio': 'Nº de clientes'}, inplace = True)\n",
    "df_avg10_card.set_index('Categoria do Cartão', inplace = True)\n",
    "df_avg10_card"
   ]
  },
  {
   "cell_type": "markdown",
   "metadata": {
    "hidden": true
   },
   "source": [
    "Percentualmente, por categoria de cartão:"
   ]
  },
  {
   "cell_type": "code",
   "execution_count": 109,
   "metadata": {
    "hidden": true
   },
   "outputs": [
    {
     "data": {
      "text/html": [
       "<div>\n",
       "<style scoped>\n",
       "    .dataframe tbody tr th:only-of-type {\n",
       "        vertical-align: middle;\n",
       "    }\n",
       "\n",
       "    .dataframe tbody tr th {\n",
       "        vertical-align: top;\n",
       "    }\n",
       "\n",
       "    .dataframe thead th {\n",
       "        text-align: right;\n",
       "    }\n",
       "</style>\n",
       "<table border=\"1\" class=\"dataframe\">\n",
       "  <thead>\n",
       "    <tr style=\"text-align: right;\">\n",
       "      <th></th>\n",
       "      <th>Taxa de Cancelamento (%)</th>\n",
       "    </tr>\n",
       "    <tr>\n",
       "      <th>Categoria do Cartão</th>\n",
       "      <th></th>\n",
       "    </tr>\n",
       "  </thead>\n",
       "  <tbody>\n",
       "    <tr>\n",
       "      <th>Blue</th>\n",
       "      <td>63.726136</td>\n",
       "    </tr>\n",
       "    <tr>\n",
       "      <th>Gold</th>\n",
       "      <td>95.238095</td>\n",
       "    </tr>\n",
       "    <tr>\n",
       "      <th>Platinum</th>\n",
       "      <td>100.000000</td>\n",
       "    </tr>\n",
       "    <tr>\n",
       "      <th>Silver</th>\n",
       "      <td>91.463415</td>\n",
       "    </tr>\n",
       "  </tbody>\n",
       "</table>\n",
       "</div>"
      ],
      "text/plain": [
       "                     Taxa de Cancelamento (%)\n",
       "Categoria do Cartão                          \n",
       "Blue                                63.726136\n",
       "Gold                                95.238095\n",
       "Platinum                           100.000000\n",
       "Silver                              91.463415"
      ]
     },
     "execution_count": 109,
     "metadata": {},
     "output_type": "execute_result"
    }
   ],
   "source": [
    "df_avg10_percentual = df_avg10_card/df_atr_card * 100\n",
    "df_avg10_percentual.rename(columns = {'Nº de clientes': 'Taxa de Cancelamento (%)'}, inplace = True)\n",
    "df_avg10_percentual"
   ]
  },
  {
   "cell_type": "markdown",
   "metadata": {
    "hidden": true
   },
   "source": [
    "Apesar de a maior parte dos clientes que cancelaram, estarem na categoria Blue, a taxa de cancelamento dentre os outros grupos de cartão também segue alta para clientes que utilizam menos de 10% do limite do cartão."
   ]
  },
  {
   "cell_type": "markdown",
   "metadata": {
    "hidden": true
   },
   "source": [
    "**Para uma média de utilização maior do que 90%:**"
   ]
  },
  {
   "cell_type": "code",
   "execution_count": 110,
   "metadata": {
    "hidden": true
   },
   "outputs": [
    {
     "data": {
      "text/html": [
       "<div>\n",
       "<style scoped>\n",
       "    .dataframe tbody tr th:only-of-type {\n",
       "        vertical-align: middle;\n",
       "    }\n",
       "\n",
       "    .dataframe tbody tr th {\n",
       "        vertical-align: top;\n",
       "    }\n",
       "\n",
       "    .dataframe thead th {\n",
       "        text-align: right;\n",
       "    }\n",
       "</style>\n",
       "<table border=\"1\" class=\"dataframe\">\n",
       "  <thead>\n",
       "    <tr style=\"text-align: right;\">\n",
       "      <th></th>\n",
       "      <th>Nº de clientes</th>\n",
       "    </tr>\n",
       "    <tr>\n",
       "      <th>Categoria do Cartão</th>\n",
       "      <th></th>\n",
       "    </tr>\n",
       "  </thead>\n",
       "  <tbody>\n",
       "    <tr>\n",
       "      <th>Blue</th>\n",
       "      <td>24</td>\n",
       "    </tr>\n",
       "  </tbody>\n",
       "</table>\n",
       "</div>"
      ],
      "text/plain": [
       "                     Nº de clientes\n",
       "Categoria do Cartão                \n",
       "Blue                             24"
      ]
     },
     "execution_count": 110,
     "metadata": {},
     "output_type": "execute_result"
    }
   ],
   "source": [
    "df_avg90_card = pd.DataFrame(df_atr[df_atr['Avg_Utilization_Ratio'] > 0.9].groupby('Card_Category')['Avg_Utilization_Ratio'].count())\n",
    "df_avg90_card.reset_index(inplace = True)\n",
    "df_avg90_card.rename(columns = {'Card_Category': 'Categoria do Cartão', 'Avg_Utilization_Ratio': 'Nº de clientes'}, inplace = True)\n",
    "df_avg90_card.set_index('Categoria do Cartão', inplace = True)\n",
    "df_avg90_card"
   ]
  },
  {
   "cell_type": "markdown",
   "metadata": {
    "hidden": true,
    "id": "9fc804af"
   },
   "source": [
    "Percentualmente, por categoria de cartão:"
   ]
  },
  {
   "cell_type": "code",
   "execution_count": 111,
   "metadata": {
    "hidden": true,
    "id": "a28d7ec1",
    "outputId": "dcb17618-7d52-4a03-d97f-12897c87931b"
   },
   "outputs": [
    {
     "data": {
      "text/html": [
       "<div>\n",
       "<style scoped>\n",
       "    .dataframe tbody tr th:only-of-type {\n",
       "        vertical-align: middle;\n",
       "    }\n",
       "\n",
       "    .dataframe tbody tr th {\n",
       "        vertical-align: top;\n",
       "    }\n",
       "\n",
       "    .dataframe thead th {\n",
       "        text-align: right;\n",
       "    }\n",
       "</style>\n",
       "<table border=\"1\" class=\"dataframe\">\n",
       "  <thead>\n",
       "    <tr style=\"text-align: right;\">\n",
       "      <th></th>\n",
       "      <th>Taxa de Cancelamento (%)</th>\n",
       "    </tr>\n",
       "    <tr>\n",
       "      <th>Categoria do Cartão</th>\n",
       "      <th></th>\n",
       "    </tr>\n",
       "  </thead>\n",
       "  <tbody>\n",
       "    <tr>\n",
       "      <th>Blue</th>\n",
       "      <td>1.579987</td>\n",
       "    </tr>\n",
       "    <tr>\n",
       "      <th>Gold</th>\n",
       "      <td>NaN</td>\n",
       "    </tr>\n",
       "    <tr>\n",
       "      <th>Platinum</th>\n",
       "      <td>NaN</td>\n",
       "    </tr>\n",
       "    <tr>\n",
       "      <th>Silver</th>\n",
       "      <td>NaN</td>\n",
       "    </tr>\n",
       "  </tbody>\n",
       "</table>\n",
       "</div>"
      ],
      "text/plain": [
       "                     Taxa de Cancelamento (%)\n",
       "Categoria do Cartão                          \n",
       "Blue                                 1.579987\n",
       "Gold                                      NaN\n",
       "Platinum                                  NaN\n",
       "Silver                                    NaN"
      ]
     },
     "execution_count": 111,
     "metadata": {},
     "output_type": "execute_result"
    }
   ],
   "source": [
    "df_avg90_percentual = df_avg90_card/df_atr_card * 100\n",
    "df_avg90_percentual.rename(columns = {'Nº de clientes': 'Taxa de Cancelamento (%)'}, inplace = True)\n",
    "df_avg90_percentual"
   ]
  },
  {
   "cell_type": "markdown",
   "metadata": {
    "hidden": true
   },
   "source": [
    "Daqueles que utilizam mais de 90% do cartão e cancelaram o serviço, todos estão na categoria Blue. Isto pode ser apenas um reflexo da base como um todo, já que a maior dos clientes está na categoria Blue.\n",
    "\n",
    "**Hipótese**: Cada categoria de cartão oferece diferentes benefícios. A anuidade do cartão aumenta, quanto maior este número de benefícios, o que explica a alta taxa de cancelamento entre aqueles que possuem cartões nas categorias Gold, Platinum e Silver, mas utilizam menos de 10% do limite."
   ]
  },
  {
   "cell_type": "markdown",
   "metadata": {
    "id": "5d33ee05"
   },
   "source": [
    "### Entendendo o limite da pessoa - PAREI AQUI 🚨"
   ]
  },
  {
   "cell_type": "markdown",
   "metadata": {
    "id": "1b40027d"
   },
   "source": [
    "Observamos que, independente do tamanho de limite de crédito do cliente, a maioria dos clientes utiliza pouco do seu limite."
   ]
  },
  {
   "cell_type": "code",
   "execution_count": null,
   "metadata": {
    "id": "44c8a9e6",
    "outputId": "78d136a5-da4c-4963-dc2f-4e8c6a69638d",
    "scrolled": false
   },
   "outputs": [],
   "source": [
    "plt.figure(figsize=(15,5))\n",
    "quantitativa_y, quantitativa_x = relacoes[1]\n",
    "categoria = categoricas[-1]\n",
    "sns.scatterplot(x=quantitativa_x, y=quantitativa_y, data=df_atr, hue=categoria)\n",
    "plt.ylabel(quantitativa_y);\n",
    "plt.xlabel(quantitativa_x);"
   ]
  },
  {
   "cell_type": "markdown",
   "metadata": {
    "id": "d3556745"
   },
   "source": [
    "Limite não tem a ver com a categoria do cartão."
   ]
  },
  {
   "cell_type": "code",
   "execution_count": null,
   "metadata": {
    "id": "bf57bfbe",
    "outputId": "eadeaa4a-3756-489b-d678-5c9a46170b4b",
    "scrolled": false
   },
   "outputs": [],
   "source": [
    "plt.figure(figsize=(15,5))\n",
    "quantitativa_y, quantitativa_x = relacoes[2]\n",
    "categoria = categoricas[-2]\n",
    "sns.boxplot(x=quantitativa_x, y=quantitativa_y, data=df_atr, hue=categoria)\n",
    "plt.ylabel(quantitativa_y);\n",
    "plt.xlabel(quantitativa_x);"
   ]
  },
  {
   "cell_type": "markdown",
   "metadata": {
    "id": "7ac1ff2b"
   },
   "source": [
    "Limite não tem a ver com o tempo de relacionamento com o cliente."
   ]
  },
  {
   "cell_type": "code",
   "execution_count": null,
   "metadata": {
    "id": "1aa58586",
    "outputId": "b19e227c-5d8b-4ba3-ca45-4f1bbdc1aa9a",
    "scrolled": true
   },
   "outputs": [],
   "source": [
    "plt.figure(figsize=(15,5))\n",
    "quantitativa_y, quantitativa_x = relacoes[3]\n",
    "categoria = categoricas[-2]\n",
    "sns.scatterplot(x=quantitativa_x, y=quantitativa_y, data=df_atr, hue=categoria)\n",
    "plt.ylabel(quantitativa_y);\n",
    "plt.xlabel(quantitativa_x);"
   ]
  },
  {
   "cell_type": "markdown",
   "metadata": {
    "id": "58dadc25"
   },
   "source": [
    "Limite tem a ver com a renda. Rendas menores possuem limite menor."
   ]
  },
  {
   "cell_type": "code",
   "execution_count": null,
   "metadata": {
    "id": "368f4db8",
    "outputId": "c8896bbb-566d-4f2d-957c-0a1f8ad892cd",
    "scrolled": false
   },
   "outputs": [],
   "source": [
    "order = ['NaN', 'Less than $40K', '$40K - $60K', '$60K - $80K', '$80K - $120K','$120K +' ]\n",
    "df_atr['Income_Category'] = pd.Categorical(df_atr['Income_Category'])\n",
    "df4 = df_atr.sort_values(by=['Income_Category']).copy()\n",
    "plt.figure(figsize=(15,5))\n",
    "quantitativa_y, quantitativa_x = relacoes[4]\n",
    "categoria = categoricas[-2]\n",
    "sns.scatterplot(x=quantitativa_x, y=quantitativa_y, data=df4)\n",
    "plt.ylabel(quantitativa_y);\n",
    "plt.xlabel(quantitativa_x);"
   ]
  },
  {
   "cell_type": "code",
   "execution_count": null,
   "metadata": {
    "id": "ad9d86a7",
    "outputId": "8fab431b-3445-4f59-9691-f59c04e122d3"
   },
   "outputs": [],
   "source": [
    "plt.figure(figsize=(15,5))\n",
    "quantitativa_y, quantitativa_x = relacoes[6]\n",
    "categoria = categoricas[-2]\n",
    "sns.scatterplot(x=quantitativa_x, y=quantitativa_y, data=df_atr[df_atr['Card_Category']=='Silver'], hue=categoria)\n",
    "plt.ylabel(quantitativa_y);\n",
    "plt.xlabel(quantitativa_x);"
   ]
  },
  {
   "cell_type": "markdown",
   "metadata": {
    "id": "9638e543"
   },
   "source": [
    "### Relação entre escolaridade e renda"
   ]
  },
  {
   "cell_type": "code",
   "execution_count": null,
   "metadata": {
    "id": "8598f11f",
    "outputId": "1635cb40-c1b6-4417-a41e-145dedc5fe55",
    "scrolled": true
   },
   "outputs": [],
   "source": [
    "df3 = pd.pivot_table(data=df_atr, index=['Income_Category'], columns=['Education_Level'], values=['CLIENTNUM'],aggfunc='count', margins=1)\n",
    "df3"
   ]
  },
  {
   "cell_type": "code",
   "execution_count": null,
   "metadata": {
    "id": "9b52efbe",
    "outputId": "682610cd-3cc4-40c0-81a7-a45703f5fe19",
    "scrolled": false
   },
   "outputs": [],
   "source": [
    "df3.reset_index()"
   ]
  },
  {
   "cell_type": "markdown",
   "metadata": {
    "heading_collapsed": true,
    "id": "5b0e751b"
   },
   "source": [
    "# Outras análises"
   ]
  },
  {
   "cell_type": "markdown",
   "metadata": {
    "hidden": true,
    "id": "05e07069"
   },
   "source": [
    "### Porcentagem de clientes desistentes por tipo de cartão"
   ]
  },
  {
   "cell_type": "code",
   "execution_count": null,
   "metadata": {
    "hidden": true,
    "id": "a6dcc85e",
    "outputId": "716b63cf-1fc1-4c0c-fdc3-e5eb183d9a13"
   },
   "outputs": [],
   "source": [
    "df[df['Attrition_Flag'] == 'Attrited Customer'].groupby('Card_Category')['Credit_Limit'].describe()['count']/df.groupby('Card_Category')['Credit_Limit'].describe()['count']*100"
   ]
  },
  {
   "cell_type": "markdown",
   "metadata": {
    "hidden": true,
    "id": "0d3e01cd"
   },
   "source": [
    "### Média da utilização do cartão de clientes desistentes por tipo de cartão"
   ]
  },
  {
   "cell_type": "code",
   "execution_count": null,
   "metadata": {
    "hidden": true,
    "id": "6e956efd",
    "outputId": "de779dab-b54f-49d9-8fb8-684de320fb8d"
   },
   "outputs": [],
   "source": [
    "df[df['Attrition_Flag'] == 'Attrited Customer'].groupby('Card_Category')['Avg_Utilization_Ratio'].mean()"
   ]
  },
  {
   "cell_type": "markdown",
   "metadata": {
    "heading_collapsed": true,
    "id": "0f18b97c"
   },
   "source": [
    "# Tratando dados"
   ]
  },
  {
   "cell_type": "code",
   "execution_count": null,
   "metadata": {
    "hidden": true,
    "id": "eaafb0c1",
    "outputId": "547541a7-37ab-4cab-8cf3-bc67cc7c1505",
    "scrolled": false
   },
   "outputs": [],
   "source": [
    "df.replace('Unknown', np.nan, inplace=True) #NaN\n",
    "df"
   ]
  },
  {
   "cell_type": "markdown",
   "metadata": {
    "heading_collapsed": true,
    "id": "ef5ba57b"
   },
   "source": [
    "# Anotações internas"
   ]
  },
  {
   "cell_type": "markdown",
   "metadata": {
    "hidden": true,
    "id": "a0489e19"
   },
   "source": [
    "**Tipos de análise**\n",
    "1. Analisar o dataframe todo\n",
    "2.  Analisar o dataframe de desistentes\n",
    "3. Analisar os desistentes em relação ao todo\n",
    "\n",
    "\n",
    "**Análises pendentes**\n",
    "1. Categoria do cartão vs. renda\n",
    "2. Categoria do cartão vs. escolaridade\n",
    "3. Months_Inactive_12_mon tem relação com categoria de cartão\n",
    "4. Attrition_Flag com Months_Inactive_12_mon\n",
    "5. Total_Relationship_Count com categoria de cartão\n",
    "6. Months_Inactive_12_mon tem tendência a cancelar? \n",
    "7. Avg_Utilization_Ratio - ver no dataframe inteiro\n",
    "8. Análise do tempo de permanência das pessoas que saíram\n",
    "\n",
    "Se Avg_Utilization_Ratio for importante, ver relação com dependentes, tipo de cartão, renda, gênero, escolaridade.\n",
    "\n",
    "**Pesquisar:**\n",
    "1. Gráfico de colunas agrupadas\n",
    "\n",
    "\n",
    "**Racional de cálculo:**\n",
    "1. Total_Revolving_Bal = Credit_Limit - Avg_Open_To_Buy\n",
    "2. Avg_Utilization_Ratio = Total_Revolving_Bal/Credit_Limit\n",
    "3. Total_Amt_Chng_Q4_Q1: Total_Amt_Q4/Total_Amt_Q1 (não temos no dataframe)"
   ]
  },
  {
   "cell_type": "code",
   "execution_count": null,
   "metadata": {
    "hidden": true,
    "id": "e6f95851"
   },
   "outputs": [],
   "source": []
  }
 ],
 "metadata": {
  "colab": {
   "name": "Projeto - Cartão de crédito.ipynb",
   "provenance": []
  },
  "hide_input": false,
  "kernelspec": {
   "display_name": "Python 3",
   "language": "python",
   "name": "python3"
  },
  "language_info": {
   "codemirror_mode": {
    "name": "ipython",
    "version": 3
   },
   "file_extension": ".py",
   "mimetype": "text/x-python",
   "name": "python",
   "nbconvert_exporter": "python",
   "pygments_lexer": "ipython3",
   "version": "3.8.5"
  }
 },
 "nbformat": 4,
 "nbformat_minor": 5
}
